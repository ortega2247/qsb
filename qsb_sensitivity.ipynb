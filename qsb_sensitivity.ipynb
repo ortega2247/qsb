{
 "cells": [
  {
   "cell_type": "markdown",
   "metadata": {},
   "source": [
    "#QSB Project"
   ]
  },
  {
   "cell_type": "code",
   "execution_count": 9,
   "metadata": {
    "collapsed": false,
    "scrolled": true
   },
   "outputs": [],
   "source": [
    "%matplotlib inline\n",
    "\n",
    "# import csv\n",
    "import matplotlib.pyplot as plt \n",
    "import numpy as np\n",
    "from scipy.optimize import curve_fit\n",
    "from pysb import *\n",
    "from pysb.macros import *\n",
    "import pylab as pl\n",
    "from pysb.integrate import odesolve\n",
    "import pandas as pd\n",
    "from IPython.display import HTML\n",
    "from scipy.stats import stats\n",
    "from scipy.spatial.distance import pdist"
   ]
  },
  {
   "cell_type": "markdown",
   "metadata": {},
   "source": [
    "##Sensitivity analysis\n",
    "In this section, the importance of each parameter will be assessed.  \n",
    "In this analysis, the output (on idividual molecules) of the original model will be compared with the output of a model where one parameter has been changed"
   ]
  },
  {
   "cell_type": "markdown",
   "metadata": {},
   "source": [
    "###Distance and statistics\n",
    "Since the parameter space is the same in both the experiment (modified model) and the control (model fitted from experiments), an euclidean distance was chosen as a measure of distance.  \n",
    "It has to be noted, that the euclidean distance is susceptible to complementary fluctuations, as seen below"
   ]
  },
  {
   "cell_type": "code",
   "execution_count": 226,
   "metadata": {
    "collapsed": false
   },
   "outputs": [
    {
     "data": {
      "text/plain": [
       "array([ 2.])"
      ]
     },
     "execution_count": 226,
     "metadata": {},
     "output_type": "execute_result"
    }
   ],
   "source": [
    "pdist([[3,2,3],[1,2,3]])"
   ]
  },
  {
   "cell_type": "code",
   "execution_count": 228,
   "metadata": {
    "collapsed": false
   },
   "outputs": [
    {
     "data": {
      "text/plain": [
       "array([ 2.])"
      ]
     },
     "execution_count": 228,
     "metadata": {},
     "output_type": "execute_result"
    }
   ],
   "source": [
    "pdist([[3,2,3],[3,4,3]])"
   ]
  },
  {
   "cell_type": "markdown",
   "metadata": {},
   "source": [
    "As a significance measure, the Mann-Whitney U test was chosen because it can work with zero-values in the null distribution, and behaves better with non-normal distributions"
   ]
  },
  {
   "cell_type": "code",
   "execution_count": 230,
   "metadata": {
    "collapsed": false
   },
   "outputs": [
    {
     "data": {
      "text/html": [
       "<iframe src='http://en.wikipedia.org/wiki/Mann-Whitney_U_test' width='800' height='600' style='border:0'></iframe>"
      ],
      "text/plain": [
       "<IPython.core.display.HTML object>"
      ]
     },
     "execution_count": 230,
     "metadata": {},
     "output_type": "execute_result"
    }
   ],
   "source": [
    "HTML(\"<iframe src='http://en.wikipedia.org/wiki/Mann-Whitney_U_test' width='800' height='600' style='border:0'></iframe>\")"
   ]
  },
  {
   "cell_type": "markdown",
   "metadata": {},
   "source": [
    "Import model"
   ]
  },
  {
   "cell_type": "code",
   "execution_count": 2,
   "metadata": {
    "collapsed": true
   },
   "outputs": [],
   "source": [
    "import qsb_model as m"
   ]
  },
  {
   "cell_type": "code",
   "execution_count": 3,
   "metadata": {
    "collapsed": false
   },
   "outputs": [],
   "source": [
    "# Extract initial conditions (We are not going to change these\n",
    "initial_conditions = [x[1] for x in m.model.initial_conditions]\n",
    "# Filter out initial concentrations from the parameters that we are going to use\n",
    "params_to_change = [param for param in m.model.parameters if not param in initial_conditions]"
   ]
  },
  {
   "cell_type": "code",
   "execution_count": 44,
   "metadata": {
    "collapsed": false
   },
   "outputs": [],
   "source": [
    "def messed_up_param(model,param,out_var,order_magnitude,samples):\n",
    "    '''\n",
    "    Measure the extent at which modifying a parameter of a model\n",
    "    will change the production of a molecule specified by it\n",
    "    input: \n",
    "    model: pysb model\n",
    "    param: parameter to be evaluated\n",
    "    out_var: output molecule to me measured\n",
    "    order_magnitude: The parameter will be modified X orders of \n",
    "    magnitude below and above its experimentally fitted value\n",
    "    samples: samples to be generated\n",
    "    '''\n",
    "    # set integration interval\n",
    "    t = np.linspace(0,200000)\n",
    "    # Store original parameter value\n",
    "    old_param_value = param.value\n",
    "    # The parameter will be modified _samples_ times\n",
    "    # _order_magnitude_ orders of magnitude\n",
    "    value_list = np.linspace(old_param_value * 10**-order_magnitude, old_param_value * 10**order_magnitude,samples)\n",
    "    # Solve the ODE system for the original model\n",
    "    yout_old = odesolve(model.model, t)\n",
    "    # Extract output variable to be analyzed\n",
    "    analyte = yout_old[out_var]\n",
    "    print(\"Parameter {} will be scanned for deviations of {} production ({} samples)\".format(param.args[0],\n",
    "                                                                                             out_var,samples))\n",
    "    sample_output = {}\n",
    "    for value in value_list:\n",
    "        # Reset model\n",
    "        model.model.reset_equations()\n",
    "        # Set the parameter to the new value\n",
    "        param.value = value\n",
    "        # Solve the ODE\n",
    "        yout = odesolve(model.model,t)\n",
    "        # Extract the values of the analyte that is being compared\n",
    "        new_analyte = yout[out_var]\n",
    "        # Calculate a U-test to see if the two distributions\n",
    "        # are significantly different\n",
    "        u_test = stats.mannwhitneyu(new_analyte,analyte)\n",
    "        # Measure the euclidean distance between the sample and the original model\n",
    "        euclidean = pdist([new_analyte,analyte])\n",
    "        # Reset model\n",
    "        param.value = old_param_value\n",
    "        model.model.reset_equations()\n",
    "        # Store result in dictionary\n",
    "        sample_output[value] = [euclidean[0],u_test[0]]\n",
    "        # Organize result as a table\n",
    "        sample_output_table = pd.DataFrame.from_dict(sample_output,orient='index')\n",
    "        sample_output_table.columns=['euclidean','u_test_Pval']\n",
    "        sample_output_table.index.name = param.args[0]\n",
    "        sample_output_table.reset_index(inplace=True)\n",
    "        sample_output_table.sort(param.args[0],inplace=True)\n",
    "        sample_output_table.set_index(param.args[0],inplace=True)\n",
    "#         print \"euclidean distance: {}, P-value (U-test): {}\".format(np.round(euclidean[0],2),u_test[1])\n",
    "    return sample_output_table"
   ]
  },
  {
   "cell_type": "code",
   "execution_count": 45,
   "metadata": {
    "collapsed": false,
    "scrolled": true
   },
   "outputs": [
    {
     "name": "stdout",
     "output_type": "stream",
     "text": [
      "Parameter synthesize_C8_k will be scanned for deviations of mBid production (10 samples)\n",
      "Parameter bind_C8_Bidn_to_C8Bidn_kf will be scanned for deviations of mBid production (10 samples)\n",
      "Parameter bind_C8_Bidn_to_C8Bidn_kr will be scanned for deviations of mBid production (10 samples)\n",
      "Parameter catalyze_C8Bidn_to_C8_Bidt_kc will be scanned for deviations of mBid production (10 samples)\n",
      "Parameter bind_Bidt_Baxd_to_BidtBaxd_kf will be scanned for deviations of mBid production (10 samples)\n",
      "Parameter bind_Bidt_Baxd_to_BidtBaxd_kr will be scanned for deviations of mBid production (10 samples)\n",
      "Parameter catalyze_BidtBaxd_to_Bidt_Baxa_kc will be scanned for deviations of mBid production (10 samples)\n",
      "Parameter bind_Baxa_Mc_to_BaxaMc_kf will be scanned for deviations of mBid production (10 samples)\n",
      "Parameter bind_Baxa_Mc_to_BaxaMc_kr will be scanned for deviations of mBid production (10 samples)\n",
      "Parameter catalyze_BaxaMc_to_Baxa_Mp_kc will be scanned for deviations of mBid production (10 samples)\n",
      "Parameter bind_Mp_Smacm_to_MpSmacm_kf will be scanned for deviations of mBid production (10 samples)\n",
      "Parameter bind_Mp_Smacm_to_MpSmacm_kr will be scanned for deviations of mBid production (10 samples)\n",
      "Parameter catalyze_MpSmacm_to_Mp_Smacr_kc will be scanned for deviations of mBid production (10 samples)\n",
      "Parameter bind_Smacr_PARPn_to_SmacrPARPn_kf will be scanned for deviations of mBid production (10 samples)\n",
      "Parameter bind_Smacr_PARPn_to_SmacrPARPn_kr will be scanned for deviations of mBid production (10 samples)\n",
      "Parameter catalyze_SmacrPARPn_to_Smacr_PARPc_kc will be scanned for deviations of mBid production (10 samples)\n",
      "Parameter bind_Bidt_Bcl2_kf will be scanned for deviations of mBid production (10 samples)\n",
      "Parameter bind_Bidt_Bcl2_kr will be scanned for deviations of mBid production (10 samples)\n",
      "Parameter bind_Baxa_Bcl2_kf will be scanned for deviations of mBid production (10 samples)\n",
      "Parameter bind_Baxa_Bcl2_kr will be scanned for deviations of mBid production (10 samples)\n",
      "\n",
      "\n",
      "Parameter synthesize_C8_k will be scanned for deviations of aSmac production (10 samples)\n",
      "Parameter bind_C8_Bidn_to_C8Bidn_kf will be scanned for deviations of aSmac production (10 samples)\n",
      "Parameter bind_C8_Bidn_to_C8Bidn_kr will be scanned for deviations of aSmac production (10 samples)\n",
      "Parameter catalyze_C8Bidn_to_C8_Bidt_kc will be scanned for deviations of aSmac production (10 samples)\n",
      "Parameter bind_Bidt_Baxd_to_BidtBaxd_kf will be scanned for deviations of aSmac production (10 samples)\n",
      "Parameter bind_Bidt_Baxd_to_BidtBaxd_kr will be scanned for deviations of aSmac production (10 samples)\n",
      "Parameter catalyze_BidtBaxd_to_Bidt_Baxa_kc will be scanned for deviations of aSmac production (10 samples)\n",
      "Parameter bind_Baxa_Mc_to_BaxaMc_kf will be scanned for deviations of aSmac production (10 samples)\n",
      "Parameter bind_Baxa_Mc_to_BaxaMc_kr will be scanned for deviations of aSmac production (10 samples)\n",
      "Parameter catalyze_BaxaMc_to_Baxa_Mp_kc will be scanned for deviations of aSmac production (10 samples)\n",
      "Parameter bind_Mp_Smacm_to_MpSmacm_kf will be scanned for deviations of aSmac production (10 samples)\n",
      "Parameter bind_Mp_Smacm_to_MpSmacm_kr will be scanned for deviations of aSmac production (10 samples)\n",
      "Parameter catalyze_MpSmacm_to_Mp_Smacr_kc will be scanned for deviations of aSmac production (10 samples)\n",
      "Parameter bind_Smacr_PARPn_to_SmacrPARPn_kf will be scanned for deviations of aSmac production (10 samples)\n",
      "Parameter bind_Smacr_PARPn_to_SmacrPARPn_kr will be scanned for deviations of aSmac production (10 samples)\n",
      "Parameter catalyze_SmacrPARPn_to_Smacr_PARPc_kc will be scanned for deviations of aSmac production (10 samples)\n",
      "Parameter bind_Bidt_Bcl2_kf will be scanned for deviations of aSmac production (10 samples)\n",
      "Parameter bind_Bidt_Bcl2_kr will be scanned for deviations of aSmac production (10 samples)\n",
      "Parameter bind_Baxa_Bcl2_kf will be scanned for deviations of aSmac production (10 samples)\n",
      "Parameter bind_Baxa_Bcl2_kr will be scanned for deviations of aSmac production (10 samples)\n",
      "\n",
      "\n",
      "Parameter synthesize_C8_k will be scanned for deviations of cPARP production (10 samples)\n",
      "Parameter bind_C8_Bidn_to_C8Bidn_kf will be scanned for deviations of cPARP production (10 samples)\n",
      "Parameter bind_C8_Bidn_to_C8Bidn_kr will be scanned for deviations of cPARP production (10 samples)\n",
      "Parameter catalyze_C8Bidn_to_C8_Bidt_kc will be scanned for deviations of cPARP production (10 samples)\n",
      "Parameter bind_Bidt_Baxd_to_BidtBaxd_kf will be scanned for deviations of cPARP production (10 samples)\n",
      "Parameter bind_Bidt_Baxd_to_BidtBaxd_kr will be scanned for deviations of cPARP production (10 samples)\n",
      "Parameter catalyze_BidtBaxd_to_Bidt_Baxa_kc will be scanned for deviations of cPARP production (10 samples)\n",
      "Parameter bind_Baxa_Mc_to_BaxaMc_kf will be scanned for deviations of cPARP production (10 samples)\n",
      "Parameter bind_Baxa_Mc_to_BaxaMc_kr will be scanned for deviations of cPARP production (10 samples)\n",
      "Parameter catalyze_BaxaMc_to_Baxa_Mp_kc will be scanned for deviations of cPARP production (10 samples)\n",
      "Parameter bind_Mp_Smacm_to_MpSmacm_kf will be scanned for deviations of cPARP production (10 samples)\n",
      "Parameter bind_Mp_Smacm_to_MpSmacm_kr will be scanned for deviations of cPARP production (10 samples)\n",
      "Parameter catalyze_MpSmacm_to_Mp_Smacr_kc will be scanned for deviations of cPARP production (10 samples)\n",
      "Parameter bind_Smacr_PARPn_to_SmacrPARPn_kf will be scanned for deviations of cPARP production (10 samples)\n",
      "Parameter bind_Smacr_PARPn_to_SmacrPARPn_kr will be scanned for deviations of cPARP production (10 samples)\n",
      "Parameter catalyze_SmacrPARPn_to_Smacr_PARPc_kc will be scanned for deviations of cPARP production (10 samples)\n",
      "Parameter bind_Bidt_Bcl2_kf will be scanned for deviations of cPARP production (10 samples)\n",
      "Parameter bind_Bidt_Bcl2_kr will be scanned for deviations of cPARP production (10 samples)\n",
      "Parameter bind_Baxa_Bcl2_kf will be scanned for deviations of cPARP production (10 samples)\n",
      "Parameter bind_Baxa_Bcl2_kr will be scanned for deviations of cPARP production (10 samples)\n",
      "\n",
      "\n"
     ]
    }
   ],
   "source": [
    "perturbations = {}\n",
    "for output in ['mBid','aSmac','cPARP']:\n",
    "    perturbations[output] = {param.args[0]: messed_up_param(m,param,output,2,10) for param in params_to_change}\n",
    "    print('\\n')"
   ]
  },
  {
   "cell_type": "code",
   "execution_count": 31,
   "metadata": {
    "collapsed": false
   },
   "outputs": [
    {
     "data": {
      "text/plain": [
       "array([  4.10857250e-03,   4.56873263e+00,   9.13335668e+00,\n",
       "         1.36979807e+01,   1.82626048e+01,   2.28272288e+01,\n",
       "         2.73918529e+01,   3.19564769e+01,   3.65211010e+01,\n",
       "         4.10857250e+01])"
      ]
     },
     "execution_count": 31,
     "metadata": {},
     "output_type": "execute_result"
    }
   ],
   "source": [
    "old_param_value = 0.4108572504964559\n",
    "order_magnitude = 2\n",
    "samples = 10\n",
    "np.linspace(old_param_value * 10**-order_magnitude, old_param_value * 10**order_magnitude,samples)"
   ]
  },
  {
   "cell_type": "code",
   "execution_count": 48,
   "metadata": {
    "collapsed": false
   },
   "outputs": [
    {
     "data": {
      "text/html": [
       "<div style=\"max-height:1000px;max-width:1500px;overflow:auto;\">\n",
       "<table border=\"1\" class=\"dataframe\">\n",
       "  <thead>\n",
       "    <tr style=\"text-align: right;\">\n",
       "      <th></th>\n",
       "      <th>euclidean</th>\n",
       "      <th>u_test_Pval</th>\n",
       "    </tr>\n",
       "    <tr>\n",
       "      <th>catalyze_BaxaMc_to_Baxa_Mp_kc</th>\n",
       "      <th></th>\n",
       "      <th></th>\n",
       "    </tr>\n",
       "  </thead>\n",
       "  <tbody>\n",
       "    <tr>\n",
       "      <th>0.004109 </th>\n",
       "      <td> 0.001460</td>\n",
       "      <td> 1226.5</td>\n",
       "    </tr>\n",
       "    <tr>\n",
       "      <th>4.568733 </th>\n",
       "      <td> 0.000035</td>\n",
       "      <td> 1225.5</td>\n",
       "    </tr>\n",
       "    <tr>\n",
       "      <th>9.133357 </th>\n",
       "      <td> 0.000026</td>\n",
       "      <td> 1225.5</td>\n",
       "    </tr>\n",
       "    <tr>\n",
       "      <th>13.697981</th>\n",
       "      <td> 0.000031</td>\n",
       "      <td> 1225.5</td>\n",
       "    </tr>\n",
       "    <tr>\n",
       "      <th>18.262605</th>\n",
       "      <td> 0.000035</td>\n",
       "      <td> 1225.5</td>\n",
       "    </tr>\n",
       "    <tr>\n",
       "      <th>22.827229</th>\n",
       "      <td> 0.000029</td>\n",
       "      <td> 1225.5</td>\n",
       "    </tr>\n",
       "    <tr>\n",
       "      <th>27.391853</th>\n",
       "      <td> 0.000035</td>\n",
       "      <td> 1225.5</td>\n",
       "    </tr>\n",
       "    <tr>\n",
       "      <th>31.956477</th>\n",
       "      <td> 0.000087</td>\n",
       "      <td> 1225.5</td>\n",
       "    </tr>\n",
       "    <tr>\n",
       "      <th>36.521101</th>\n",
       "      <td> 0.000058</td>\n",
       "      <td> 1225.5</td>\n",
       "    </tr>\n",
       "    <tr>\n",
       "      <th>41.085725</th>\n",
       "      <td> 0.000030</td>\n",
       "      <td> 1225.5</td>\n",
       "    </tr>\n",
       "  </tbody>\n",
       "</table>\n",
       "</div>"
      ],
      "text/plain": [
       "                               euclidean  u_test_Pval\n",
       "catalyze_BaxaMc_to_Baxa_Mp_kc                        \n",
       "0.004109                        0.001460       1226.5\n",
       "4.568733                        0.000035       1225.5\n",
       "9.133357                        0.000026       1225.5\n",
       "13.697981                       0.000031       1225.5\n",
       "18.262605                       0.000035       1225.5\n",
       "22.827229                       0.000029       1225.5\n",
       "27.391853                       0.000035       1225.5\n",
       "31.956477                       0.000087       1225.5\n",
       "36.521101                       0.000058       1225.5\n",
       "41.085725                       0.000030       1225.5"
      ]
     },
     "execution_count": 48,
     "metadata": {},
     "output_type": "execute_result"
    }
   ],
   "source": [
    "perturbations['mBid']['catalyze_BaxaMc_to_Baxa_Mp_kc']"
   ]
  },
  {
   "cell_type": "code",
   "execution_count": 64,
   "metadata": {
    "collapsed": false
   },
   "outputs": [
    {
     "data": {
      "text/plain": [
       "<matplotlib.collections.LineCollection at 0x7fd5edcfe790>"
      ]
     },
     "execution_count": 64,
     "metadata": {},
     "output_type": "execute_result"
    },
    {
     "data": {
      "image/png": "[encoded data removed]",
      "text/plain": [
       "<matplotlib.figure.Figure at 0x7fd5edcfe7d0>"
      ]
     },
     "metadata": {},
     "output_type": "display_data"
    }
   ],
   "source": [
    "output = 'mBid'\n",
    "param = 'catalyze_BaxaMc_to_Baxa_Mp_kc'\n",
    "plt.plot(perturbations[output][param].index,\n",
    "         perturbations[output][param]['euclidean'])\n",
    "plt.vlines(getattr(m, param).value,0,perturbations[output][param]['euclidean'].max())"
   ]
  },
  {
   "cell_type": "code",
   "execution_count": 61,
   "metadata": {
    "collapsed": false
   },
   "outputs": [
    {
     "data": {
      "text/plain": [
       "0.4108572504964559"
      ]
     },
     "execution_count": 61,
     "metadata": {},
     "output_type": "execute_result"
    }
   ],
   "source": [
    "getattr(m, 'catalyze_BaxaMc_to_Baxa_Mp_kc').value"
   ]
  },
  {
   "cell_type": "code",
   "execution_count": 57,
   "metadata": {
    "collapsed": false
   },
   "outputs": [
    {
     "data": {
      "text/plain": [
       "0.4108572504964559"
      ]
     },
     "execution_count": 57,
     "metadata": {},
     "output_type": "execute_result"
    }
   ],
   "source": [
    "m.catalyze_BaxaMc_to_Baxa_Mp_kc.value"
   ]
  },
  {
   "cell_type": "markdown",
   "metadata": {},
   "source": [
    "##This might get discarded"
   ]
  },
  {
   "cell_type": "code",
   "execution_count": 25,
   "metadata": {
    "collapsed": false
   },
   "outputs": [
    {
     "data": {
      "text/html": [
       "<iframe src=\"http://en.wikipedia.org/wiki/Jensen%E2%80%93Shannon_divergence\" style=\"border:none\" width=\"800\" height=\"400\"></iframe>"
      ],
      "text/plain": [
       "<IPython.core.display.HTML object>"
      ]
     },
     "execution_count": 25,
     "metadata": {},
     "output_type": "execute_result"
    }
   ],
   "source": [
    "HTML('<iframe src=\"http://en.wikipedia.org/wiki/Jensen%E2%80%93Shannon_divergence\" style=\"border:none\" width=\"800\" height=\"400\"></iframe>')"
   ]
  },
  {
   "cell_type": "markdown",
   "metadata": {},
   "source": [
    "###JSD implementation"
   ]
  },
  {
   "cell_type": "code",
   "execution_count": null,
   "metadata": {
    "collapsed": true
   },
   "outputs": [],
   "source": [
    "def DLK(u,v,epsilon,bg):\n",
    "    '''\n",
    "    Calculate Kullback-Leibler divergence\n",
    "    u,v: numpy arrays\n",
    "    e: epsilon -> pseudocounts to add\n",
    "    bg: background weight. Under a uniform distribution, bg is 1/(4^k)\n",
    "    '''\n",
    "    ps_count = epsilon * bg\n",
    "    # Get proportions and add pseudocount\n",
    "    u_prop = (u + ps_count) / sum(u)\n",
    "    v_prop = (v + ps_count) / sum(v)\n",
    "#     dlk = sum(u_prop * np.log(u_prop/v_prop))\n",
    "    dlk = sum(u_prop * np.log2(u_prop/v_prop))\n",
    "    return dlk\n",
    "\n",
    "def JSD(u,v,epsilon,bg):\n",
    "    '''\n",
    "    Calculate the Jensen-Shannon distance\n",
    "    u,v: numpy arrays\n",
    "    e and bg are arguments for DLK\n",
    "    e: epsilon -> pseudocounts to add\n",
    "    bg: background weight. Under a uniform distribution, bg is 1/(4^k)\n",
    "    '''\n",
    "    m = (u + v) / 2\n",
    "    # Calculate Jensen-Shannon divergence\n",
    "    js_div = (DLK(u,m,epsilon,bg) + DLK(v,m,epsilon,bg)) / 2\n",
    "    #Calculate Jensen-Shannon distance\n",
    "    jsdist = np.sqrt(js_div)\n",
    "    return jsdist"
   ]
  }
 ],
 "metadata": {
  "kernelspec": {
   "display_name": "Python 2",
   "language": "python",
   "name": "python2"
  },
  "language_info": {
   "codemirror_mode": {
    "name": "ipython",
    "version": 2
   },
   "file_extension": ".py",
   "mimetype": "text/x-python",
   "name": "python",
   "nbconvert_exporter": "python",
   "pygments_lexer": "ipython2",
   "version": "2.7.9"
  }
 },
 "nbformat": 4,
 "nbformat_minor": 0
}
