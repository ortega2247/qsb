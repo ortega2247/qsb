{
 "cells": [
  {
   "cell_type": "markdown",
   "metadata": {},
   "source": [
    "#Table of Contents\n",
    "* [QSB Project](#QSB-Project)\n",
    "\t* [Import modules](#Import-modules)\n",
    "\t* [Load raw data](#Load-raw-data)\n",
    "\t\t* [Question 1](#Question-1)\n",
    "\t* [Define functions to fit](#Define-functions-to-fit)\n",
    "\t* [Fit data to functions](#Fit-data-to-functions)\n",
    "\t\t* [Model definition with PySB](#Model-definition-with-PySB)\n",
    "\t* [Simulate perturbations in the rates](#Simulate-perturbations-in-the-rates)\n"
   ]
  },
  {
   "cell_type": "markdown",
   "metadata": {},
   "source": [
    "#QSB Project"
   ]
  },
  {
   "cell_type": "markdown",
   "metadata": {},
   "source": [
    "##Import modules"
   ]
  },
  {
   "cell_type": "code",
<<<<<<< HEAD
   "execution_count": 1,
=======
   "execution_count": 12,
>>>>>>> 210359e7a0c65b00773c4881ee2bf4b14793f91a
   "metadata": {
    "collapsed": false,
    "scrolled": true
   },
   "outputs": [],
   "source": [
    "%matplotlib inline\n",
    "\n",
    "import csv\n",
    "import matplotlib.pyplot as plt \n",
    "import numpy as np\n",
    "from scipy.optimize import curve_fit\n",
    "from pysb import *\n",
    "from pysb.macros import *\n",
    "import pylab as pl\n",
    "import pysb.integrate\n",
    "import pandas as pd\n",
    "from IPython.display import HTML"
   ]
  },
  {
   "cell_type": "markdown",
   "metadata": {},
   "source": [
    "##Load raw data"
   ]
  },
  {
   "cell_type": "code",
<<<<<<< HEAD
   "execution_count": 4,
=======
   "execution_count": 6,
>>>>>>> 210359e7a0c65b00773c4881ee2bf4b14793f91a
   "metadata": {
    "collapsed": true
   },
   "outputs": [],
   "source": [
    "raw_data = pd.DataFrame.from_csv('EC-RP_IMS-RP_IC-RP_data_for_models.csv')\n",
    "raw_data.index.name = raw_data.index.name.replace('# ','')\n",
    "time = raw_data.index.values\n",
    "IC_RP = raw_data['norm_IC-RP']\n",
    "IMS_RP = raw_data['IMS-RP step']\n",
    "EC_RP = raw_data['norm_EC-RP']"
   ]
  },
  {
   "cell_type": "code",
   "execution_count": 7,
   "metadata": {
    "collapsed": false,
    "scrolled": true
   },
   "outputs": [
    {
     "data": {
      "text/plain": [
       "array([  180,   360,   540,   720,   900,  1080,  1260,  1440,  1620,\n",
       "        1800,  1980,  2160,  2340,  2520,  2700,  2880,  3060,  3240,\n",
       "        3420,  3600,  3780,  3960,  4140,  4320,  4500,  4680,  4860,\n",
       "        5040,  5220,  5400,  5580,  5760,  5940,  6120,  6300,  6480,\n",
       "        6660,  6840,  7020,  7200,  7380,  7560,  7740,  7920,  8100,\n",
       "        8280,  8460,  8640,  8820,  9000,  9180,  9360,  9540,  9720,\n",
       "        9900, 10080, 10260, 10440, 10620, 10800, 10980, 11160, 11340,\n",
       "       11520, 11700, 11880, 12060, 12240, 12420, 12600, 12780, 12960,\n",
       "       13140, 13320, 13500, 13680, 13860, 14040, 14220, 14400, 14580,\n",
       "       14760, 14940, 15120, 15300, 15480, 15660, 15840, 16020, 16200,\n",
       "       16380, 16560, 16740, 16920, 17100, 17280, 17460, 17640, 17820,\n",
       "       18000, 18180, 18360, 18540, 18720, 18900, 19080, 19260, 19440,\n",
       "       19620, 19800, 19980, 20160])"
      ]
     },
     "execution_count": 7,
     "metadata": {},
     "output_type": "execute_result"
    }
   ],
   "source": [
    "time"
   ]
  },
  {
   "cell_type": "code",
   "execution_count": 5,
   "metadata": {
    "collapsed": false
   },
   "outputs": [
    {
     "data": {
      "image/png": "iVBORw0KGgoAAAANSUhEUgAAAsgAAAEcCAYAAADa7ELSAAAABHNCSVQICAgIfAhkiAAAAAlwSFlz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\nrkJggg==\n",
      "text/plain": [
       "<matplotlib.figure.Figure at 0x7f43a44b7610>"
      ]
     },
     "metadata": {},
     "output_type": "display_data"
    }
   ],
   "source": [
    "fig = plt.figure(figsize=(10,4))\n",
    "\n",
    "ic_ax = fig.add_subplot(131)\n",
    "ic_ax.plot(time,IC_RP)\n",
    "ic_ax.set_ylim((0,1.1))\n",
    "ic_ax.set_title(\"Initiator caspase \\nreporter protein\")\n",
    "\n",
    "ims_ax = fig.add_subplot(132)\n",
    "ims_ax.plot(time,IMS_RP)\n",
    "ims_ax.set_ylim((0,1.1))\n",
    "ims_ax.set_title(\"Mitochondrial inter-membrane\\n space reporter protein\")\n",
    "\n",
    "ec_ax = fig.add_subplot(133)\n",
    "ec_ax.plot(time,EC_RP)\n",
    "ec_ax.set_ylim((0,1.1))\n",
    "ec_ax.set_title(\"Effector caspase\\n reporter protein\")\n",
    "fig.tight_layout()"
   ]
  },
  {
   "cell_type": "markdown",
   "metadata": {},
   "source": [
<<<<<<< HEAD
=======
    "###Question 1"
   ]
  },
  {
   "cell_type": "markdown",
   "metadata": {},
   "source": [
    "Why is the shape of the normalized columns different from the raw counts?  \n",
    "Looking at the raw data, the values are \"stuck\" in 1 after some time"
   ]
  },
  {
   "cell_type": "code",
   "execution_count": 17,
   "metadata": {
    "collapsed": false,
    "scrolled": true
   },
   "outputs": [
    {
     "data": {
      "text/plain": [
       "[<matplotlib.lines.Line2D at 0x7fcd36b35050>]"
      ]
     },
     "execution_count": 17,
     "metadata": {},
     "output_type": "execute_result"
    },
    {
     "data": {
      "image/png": "iVBORw0KGgoAAAANSUhEUgAAAX8AAAEACAYAAABbMHZzAAAABHNCSVQICAgIfAhkiAAAAAlwSFlz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\n",
      "text/plain": [
       "<matplotlib.figure.Figure at 0x7fcd36cfbd90>"
      ]
     },
     "metadata": {},
     "output_type": "display_data"
    }
   ],
   "source": [
    "plt.plot(time,raw_data['IC-RP'])"
   ]
  },
  {
   "cell_type": "markdown",
   "metadata": {},
   "source": [
>>>>>>> 210359e7a0c65b00773c4881ee2bf4b14793f91a
    "##Define functions to fit"
   ]
  },
  {
   "cell_type": "code",
   "execution_count": 18,
   "metadata": {
    "collapsed": true
   },
   "outputs": [],
   "source": [
    "#We have to define the functions that we want to fit\n",
    "\n",
    "def linea(x,a,b):\n",
    "    return a*x+b\n",
    "\n",
    "\n",
    "def expon(x,a,b,c):\n",
    "    return a*np.exp(b*x)+c\n",
    "    \n",
    "    \n",
    "def poli(x, a, b, c, d):\n",
    "    return a*x**3 + b*x**2 +c*x + d\n",
    "\n",
    "def hill(x,a,b):\n",
    "    return 1 / (1 + np.power(a/x, b))"
   ]
  },
  {
   "cell_type": "markdown",
   "metadata": {},
   "source": [
    "##Fit data to functions"
   ]
  },
  {
   "cell_type": "code",
   "execution_count": 19,
   "metadata": {
    "collapsed": true
   },
   "outputs": [],
   "source": [
    "to_be_fitted = IC_RP\n",
    "# to_be_fitted = IMS_RP\n",
    "# to_be_fitted =  EC_RP\n"
   ]
  },
  {
   "cell_type": "code",
   "execution_count": 21,
   "metadata": {
    "collapsed": false,
    "scrolled": true
   },
   "outputs": [],
   "source": [
    "poptl, pcovl = curve_fit(linea,time,to_be_fitted)\n",
    "poptp, pcovp = curve_fit(poli,time,to_be_fitted)\n",
    "poptex, pcovex = curve_fit(expon,time,to_be_fitted, p0=(0.1, 1e-4,10))\n",
    "popth, pcovexh = curve_fit(hill, time, to_be_fitted)\n",
    "\n",
    "linea_fit = linea(time,*poptl)\n",
    "poli_fit = poli(time,*poptp)\n",
    "expo_fit = expon(time,*poptex)\n",
    "hill_fit = hill(time, *popth)"
   ]
  },
  {
   "cell_type": "code",
   "execution_count": 23,
   "metadata": {
    "collapsed": false,
    "scrolled": false
   },
   "outputs": [
    {
     "data": {
      "image/png": "iVBORw0KGgoAAAANSUhEUgAAAsgAAAFBCAYAAABq/Fn7AAAABHNCSVQICAgIfAhkiAAAAAlwSFlz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\n",
      "text/plain": [
       "<matplotlib.figure.Figure at 0x7fcd3718d110>"
      ]
     },
     "metadata": {},
     "output_type": "display_data"
    }
   ],
   "source": [
    "fig = plt.figure(figsize=(10,4))\n",
    "\n",
    "line_ax = fig.add_subplot(141)\n",
    "line_ax.plot(time,linea_fit)\n",
    "line_ax.scatter(time,to_be_fitted,c='r',marker='x')\n",
    "line_ax.set_title(\"Linear\")\n",
    "\n",
    "poly_ax = fig.add_subplot(142)\n",
    "poly_ax.plot(time,poli_fit)\n",
    "poly_ax.scatter(time,to_be_fitted,c='r',marker='x')\n",
    "poly_ax.set_title(\"Polynomial\")\n",
    "\n",
    "exp_ax = fig.add_subplot(143)\n",
    "exp_ax.plot(time,expo_fit)\n",
    "exp_ax.scatter(time,to_be_fitted,c='r',marker='x')\n",
    "exp_ax.set_title(\"Exponential\")\n",
    "\n",
    "hill_ax = fig.add_subplot(144)\n",
    "hill_ax.plot(time,hill_fit)\n",
    "hill_ax.scatter(time,to_be_fitted,c='r',marker='x')\n",
    "hill_ax.set_title(\"Hill equation\")\n",
    "\n",
    "fig.suptitle(\"Function fitting\\n\\n\",y=1.1,fontsize=20)\n",
    "\n",
    "fig.tight_layout()"
   ]
  },
  {
   "cell_type": "markdown",
   "metadata": {},
   "source": [
    "###Model definition with PySB"
   ]
  },
  {
   "cell_type": "code",
<<<<<<< HEAD
   "execution_count": 174,
=======
   "execution_count": 2,
>>>>>>> 210359e7a0c65b00773c4881ee2bf4b14793f91a
   "metadata": {
    "collapsed": false
   },
   "outputs": [
    {
     "data": {
      "text/plain": [
       "Observable('cPARP', PARP(b=None, S='c'))"
      ]
     },
     "execution_count": 2,
     "metadata": {},
     "output_type": "execute_result"
    }
   ],
   "source": [
<<<<<<< HEAD
    "import qsb_model as m"
=======
    "# %load qsb_model.py\n",
    "\"\"\"\n",
    "Created on Wed Apr 22 01:56:25 2015\n",
    "\n",
    "@author: lolab\n",
    "\"\"\"\n",
    "\n",
    "\n",
    "import csv\n",
    "import matplotlib.pyplot as plt \n",
    "import numpy as np\n",
    "from scipy.optimize import curve_fit\n",
    "from pysb import *\n",
    "from pysb.macros import *\n",
    "import pylab as pl\n",
    "from pysb.integrate import odesolve\n",
    "\n",
    "# some functions to make life easy\n",
    "site_name = 'b'\n",
    "def catalyze_b(enz, sub, product, klist):\n",
    "    \"\"\"Alias for pysb.macros.catalyze with default binding site 'b'.\n",
    "    \"\"\"\n",
    "    return catalyze(enz, site_name, sub, site_name, product, klist)\n",
    "\n",
    "def bind_table_b(table):\n",
    "    \"\"\"Alias for pysb.macros.bind_table with default binding sites 'bf'.\n",
    "    \"\"\"\n",
    "    return bind_table(table, site_name, site_name)\n",
    "\n",
    "# Default forward, reverse, and catalytic rates\n",
    "KFc = 8.6897973656754578e-07 #1e-6\n",
    "KRc = 0.00026884384823502833 #1e-3\n",
    "KCc = 7.9623024965305493 #1\n",
    "\n",
    "KFb = 4.149733352245889e-09 #1e-7\n",
    "KRb = 0.00050110975371602537 #1e-3\n",
    "KCb = 0.39197357243506348 #1\n",
    "\n",
    "KFba = 2.2299766742556005e-08 #1e-6\n",
    "KRba = 0.0018670344174003893 #1e-3\n",
    "KCba = 0.41085725049645588 #1\n",
    "\n",
    "KFm = 1.2128334849034545e-07 #2e-6\n",
    "KRm = 0.011242081848190973 #10e-3 \n",
    "KCm = 17.003767066674314 #10\n",
    "\n",
    "KFs = 4.0379463916345119e-05 #1e-6\n",
    "KRs = 0.0024327371579203338 #10e-3 \n",
    "KCs = 0.012083736473176411 #1\n",
    "\n",
    "\n",
    "\n",
    "\n",
    "\n",
    "# Bcl2 Inhibition Rates\n",
    "# OLD bcl2_bid_rates = [1e-6, 1e-3] # 1.0e-6/v_mito\n",
    "bcl2_bid_rates = [2.3147601898026888e-06, 0.0017312607994352624] # 1.0e-6/v_mito\n",
    "bcl2_bax_rates = [9.9990412921086819e-05, 2.0740711292172149e-05]\n",
    "# instantiate a model\n",
    "Model()\n",
    "\n",
    "# declare monomers\n",
    "Monomer('C8', ['b'])\n",
    "Monomer('Bid',    ['b', 'S'], {'S':['n', 't']})\n",
    "Monomer('Bax',   ['b', 'S'], {'S':['d', 'a']})\n",
    "Monomer('M',   ['b', 'S'], {'S':['c', 'p']})\n",
    "Monomer('Smac', ['b', 'S'], {'S':['m', 'r']})\n",
    "Monomer('PARP', ['b', 'S'],  {'S':['n', 'c']})\n",
    "Monomer('Bcl2', ['b'])\n",
    "\n",
    "\n",
    "synthesize(C8(b=None), 0.032866241994187327)\n",
    "catalyze_b(C8, Bid(S='n'), Bid(S='t'), [KFc, KRc, KCc])\n",
    "# Activate Bax\n",
    "catalyze_b(Bid(S='t'), Bax(S='d'), Bax(S='a'), [KFb, KRb, KCb])\n",
    "\n",
    "# Activate Bax/Bak\n",
    "catalyze_b(Bax(S='a'), M(S='c'), M(S='p'), [KFba, KRba, KCba])\n",
    "catalyze_b(M(S='p'), Smac(S='m'), Smac(S='r'), [KFm, KRm, KCm])\n",
    "catalyze_b(Smac(S='r'), PARP(S='n'), PARP(S='c'), [KFs, KRs, KCs])\n",
    "\n",
    "bind_table_b([[                  Bcl2],\n",
    "              [Bid(S='t'), bcl2_bid_rates  ],\n",
    "              [Bax(S='a'), bcl2_bax_rates  ]])\n",
    "\n",
    "# Bid, Bax, BclxL \"transport\" to the membrane\n",
    "#equilibrate(Bid(b=None, S='t'),   Bid(b=None, S='m'), [1e-1, 1e-3])\n",
    "#equilibrate(Bax(b=None, S='m'),   Bax(b=None, S='a'), [1e-1, 1e-3])\n",
    "#equilibrate(BclxL(b=None, S='c'), BclxL(b=None, S='m'), [1e-1, 1e-3])\n",
    "\n",
    "\n",
    "# initial conditions\n",
    "Parameter('C8_0',    0)\n",
    "Parameter('Bid_0',   4e4)\n",
    "Parameter('Bax_0',  1e5)\n",
    "Parameter('M_0',  5e5)\n",
    "Parameter('Smac_0', 1e5)\n",
    "Parameter('PARP_0',  1e6)\n",
    "Parameter('Bcl2_0',  2e4)\n",
    "\n",
    "Initial(C8(b=None), C8_0)\n",
    "Initial(Bid(b=None, S='n'), Bid_0)\n",
    "Initial(Bax(b=None, S='d'), Bax_0)\n",
    "Initial(M(b=None, S='c'), M_0)\n",
    "Initial(Smac(b=None, S='m'), Smac_0)\n",
    "Initial(PARP(b=None, S='n'), PARP_0)\n",
    "Initial(Bcl2(b=None), Bcl2_0)\n",
    "\n",
    "\n",
    "# Observables\n",
    "Observable('mBid', Bid(b=None, S='t'))\n",
    "Observable('aSmac', Smac(b=None, S='r'))\n",
    "Observable('cPARP', PARP(b=None, S='c'))\n",
    "\n"
>>>>>>> 210359e7a0c65b00773c4881ee2bf4b14793f91a
   ]
  },
  {
   "cell_type": "code",
<<<<<<< HEAD
   "execution_count": 26,
=======
   "execution_count": 16,
>>>>>>> 210359e7a0c65b00773c4881ee2bf4b14793f91a
   "metadata": {
    "collapsed": false,
    "scrolled": true
   },
   "outputs": [
    {
     "data": {
      "text/plain": [
<<<<<<< HEAD
       "<matplotlib.text.Text at 0x7f43a2f437d0>"
      ]
     },
     "execution_count": 26,
=======
       "<matplotlib.text.Text at 0x7fcd36e7f550>"
      ]
     },
     "execution_count": 16,
>>>>>>> 210359e7a0c65b00773c4881ee2bf4b14793f91a
     "metadata": {},
     "output_type": "execute_result"
    },
    {
     "data": {
<<<<<<< HEAD
      "image/png": [
       "iVBORw0KGgoAAAANSUhEUgAAAaoAAAEPCAYAAAATXoCrAAAABHNCSVQICAgIfAhkiAAAAAlwSFlz\n",
       "AAALEgAACxIB0t1+/AAAIABJREFUeJzt3XucXVV99/HPdyYXciMhgAmXBBCDFW8glOCFmnrBWCyg\n",
       "VcAq5oE8rS1WtLYVon1MorUVXy8F1OLz1KJcWoEgFlERE9GotUIUUZCIECRABnIhIZAgkIT8nj/W\n",
       "OsxmODNzMjnn7HP5vl+v/Tp7r7P3Pr+zM5nfrLXXXksRgZmZWavqKTsAMzOzoThRmZlZS3OiMjOz\n",
       "luZEZWZmLc2JyszMWpoTlZmZtbSGJSpJX5a0TtLthbKpkpZJukvSUklTCu8tkHS3pDslHV8oP0rS\n",
       "7fm9CwvlYyVdlctvknRQ4b15+TPukvSeQvkhkm7Ox1wpaXSjvr+ZmdVHI2tUXwHmDig7F1gWEYcB\n",
       "N+ZtJB0OnAocno+5SJLyMV8E5kfELGCWpMo55wMbc/n5wHn5XFOBjwHH5GWhpMn5mPOAz+RjHsnn\n",
       "MDOzFtawRBURPyYlg6ITgUvz+qXAyXn9JOCKiNgeEauBVcBsSfsBkyJiRd7vssIxxXNdA7w+r78J\n",
       "WBoRmyNiM7AMeHNOfH8MfK3K55uZWYtq9j2qaRGxLq+vA6bl9f2BNYX91gAHVCnvy+Xk1wcAImIH\n",
       "8KikvYc411Rgc0TsrHIuMzNrUaV1pog0dlOzxm/yOFFmZm1qVJM/b52k6RGxNjfrrc/lfcCMwn4H\n",
       "kmpCfXl9YHnlmJnAg5JGAZMjYqOkPmBO4ZgZwPeBTcAUST25VnVgPsdzSHJiMzMbgYjQ8HvtmmYn\n",
       "quuAeaRODfOAawvlX5X0WVJz3CxgRUSEpMckzQZWAKcDnxtwrpuAt5M6ZwAsBf459ygU8EbgnHyu\n",
       "HwDvAK4a8PnP0YiL3a0kLYqIRWXH0QlGfC2lXuAbwP1EnFXvuNqVfzbrq1F/5DcsUUm6AngtsI+k\n",
       "B0g98T4FLJE0H1gNnAIQESslLQFWAjuAs6J/WPezgEuAccD1EXFDLr8YuFzS3cBG4LR8rk2SPgH8\n",
       "LO+3OHeqADgHuFLSPwG/yOcw6wYfByYBHyw7ELNdJU/z8VySwjWq+vFfrfUzomspnQJ8GjiGiPXD\n",
       "7d5N/LNZX4363dnspj/rTsvLDqCDLN+lvaWXA/8KHO8kVdXysgOw4blGVYVrVNYRpH1ITeALiLiy\n",
       "7HCs87lGZWa1S8ODXQ1c6SRVG/f23TXN/GPeicqsM30aeAL4x7IDaSduSalNs5O6m/6qcNOftT1p\n",
       "M/AiIh4qO5R24f/3tRvsWjXqGnqaD7NOI40FJgBryw7FrB6cqMw6zz7Aw7i5xDqEE5VZ59kX2FB2\n",
       "EFYeSb+W9EeDvDcnD8LQNpyozDqPE1WHkbRa0uvy+sGSdkrakpe1kv41j3kKQES8JCJ+VF7E9eVE\n",
       "ZdZ5nKg6T5DGLi2aHBGTgJcCrwTe1/SomsSJyqzzOFF1EEmXk2aK+KakLaSBtZ8RERtIE8QeXjhm\n",
       "taTX5/Vxki6RtEnSHcAfNi/6+nCiMus8TlQdJCJOB+4H3pJrUFfntwQgaX/SzOY/LR5G/zx8C4FD\n",
       "gOfn/ebRZnP0OVGZdR4nqgaQiHosdQzpYUmPkObo2wpcM8h+7wA+GRGbI2INcCHPbUZsaU5UZp3H\n",
       "iaoBIlA9ljqGtHdE7AWMB/4H+O4g++0PFHv53V/HGJrCicqs8zhRdZ5Ba2IR8SRwKXCspKlVdnmI\n",
       "dI+rYmaVfVqaE5VZ53Gi6jzrgEMHlFXuUY0lzX7+UERsqnLsEmCBpCmSDgTe39BIG8CJyqzzOFF1\n",
       "nn8B/jHfk/qzXLY59wJcC8wGThzk2MXAfcC9wA3AZbRZZwoPSluFB6e0tpUe+nwSGEvE02WH0078\n",
       "/752HpTWzHbH3sAjTlLWSZyozDqLm/2s4zhRmXUWJyrrOE5UZp3Fico6jhOVWWdxorKO40Rl1lmc\n",
       "qKzjOFGZdRYnKus4TlRmncWJyjqOE5VZZ3Giso7jRGXWWZyoOpCk10j6H0mbJW2U9N+Sji47rmYZ\n",
       "VXYAZlZXTlQdRtKewLeA95IGmB0LHAc8VWZczeQalVmnkHqAqcDDZYdidXUYEBFxVSRPRsSyiLhd\n",
       "0v+S9BNJn5X0iKR7JL0yl98vaZ2k91ROJOkESbdKejS/v7D4QYWa2yP5/XlN/7ZVOFGZdY69gK1E\n",
       "bC87EKur3wJPS7pE0lxJew14/xjgV6Q/Ur4KXAUcRZoW5N3AFySNz/tuBd4dEZOBE4C/lnQSgKSD\n",
       "gOtJMwDvAxwB/LKh36xGHj29Co+ibG1J+gPgOiIOKzuUdjTc/3stVl1+WcbCXf/dovRvew7wBmA6\n",
       "KaH8BfAnwEci/5tLeikpaU2LiA257GHgdRFxW5XzXgDsjIgPSVoAHB0RfzZwvyrHNXX0dN+jMusc\n",
       "+wLryw6iU40kwdTtsyPuBM4AkPRC4D+AC0jTz68r7PpE3n/DgLKJ+djZwKeAFwNjSPe7luT9ZgC/\n",
       "a9iX2A1u+jPrHO5I0QUi4rekqedfMoLDvwpcCxwYEVOA/0ueKRi4n+fOItwSnKjMOsfzcKLqOJJe\n",
       "KOlDkg7I2zOAdwI/HcHpJgKPRMQ2SccAf15476vAGyS9Q9IoSXtLevluf4E6cKIy6xyuUXWmLaSp\n",
       "5m+WtJWUoG4D/i6/P/De2VD30s4CPi7pMeD/kDpepIMi7ifd8/o7YCNwK/CyenyB3VVKZwpJfwvM\n",
       "J13Q20ltrxNIF+0gYDVwSkRszvsvAM4EngbOjoilufwo4BJgD+D6iPhALh8LXAa8gnTBT42I+/J7\n",
       "84CP5lD+KSIuqxKfO1NY+5E+B/yOiAvKDqUd+f997Tp+KvpcfX0/cFREvBToBU4DzgWW5d4rN+Zt\n",
       "JB0OnAocDswFLpJUuRBfBOZHxCxglqS5uXw+sDGXnw+cl881FfgYqTvnMcBCSVMa/JXNmsU1KutI\n",
       "ZTX9jQLGSxoFjAceBE4k3SAkv56c108CroiI7RGxGlgFzJa0HzApIlbk/S4rHFM81zXA6/P6m4Cl\n",
       "EbE519aWkZKfWSdworKO1PREFRF9wGdIPUweBDZHxDJSv/9KN8t1wLS8vj+wpnCKNcABVcr7cjn5\n",
       "9YH8eTuARyXtPcS5zDqBE5V1pKY/R5Wfqj4ROBh4FLha0ruL+0RESPV5uG6kJC0qbC6PiOUlhWJW\n",
       "KycqaypJc4A5jf6cMh74fQNwb0RsBJD0deCVwFpJ0yNibW7Wqzy42Ed6EK3iQFJNqC+vDyyvHDMT\n",
       "eDA3L06OiI2S+nj2RZ0BfL9akBGxaMTf0KzZ0n3bfXCisibKf8Avr2wPHDuwXsq4R3UfcKykcblT\n",
       "xBuAlcA3gcoAiPNID6UBXAecJmmMpEOAWcCKiFgLPCZpdj7P6cA3CsdUzvV2UucMgKXA8ZKm5Jrd\n",
       "G0lPdpu1u8nAk0R0zYja1j2aXqOKiBWSvgb8AtiRX/8NmAQskTSf3D09779S0hJSMtsBnBX9ferP\n",
       "InVPH0fqnn5DLr8YuFzS3aTu6aflc22S9AngZ3m/xZUu8GZtzs1+1rE8KG0Vfp7C2o70KuCzRBxb\n",
       "dijtyv/va9fxz1GZWUO4RmUdy4nKrDM4UXWZPDni05K25IkQb5V0QtlxNYITlVlncKLqTj+JiEnA\n",
       "FNK9+SWSJu/KCXLP6JbmRGXWGZyoOpikGZK+Lmm9pIclfZ40VqogPXsKfIXUsexQSWdIWinpsTw9\n",
       "/V8WzjVH0hpJH5b0EHCxpNfmsgWSNki6V9KfV4ulDE5UZp3BiapDSeoFvgXcSxq0e3/gygH7jAL+\n",
       "N2mk9btJo/ucEBF7kgb9Pl/SkYVDpgF7kZ43fS8p4U0DKiP4zAP+TVJLzBbtRGXWGZyoGk2Kuiy7\n",
       "7hhgP+AfIuKJiNgWET8hJZdjJT0CPEQavPutEbElIq6PiHsBIuJHpGdIjyuccyewMI+h+mSh/P/k\n",
       "sh8B3yY/JlS2lm+bNLOaOFE1Wnld12cA90XEzirv3RQRxw0slPRmYCFpgIQe0uDftxV22RAR2wYc\n",
       "9khEPFHYvo9Uuyqda1RmncGJqnM9AMzMTYDDyvPxXQN8GnheROwFXE//lPNQfXLFvSSNL2wfRBqO\n",
       "rnROVGbtLg0h5kTVuW4mNe19StJ4SXtIevUQ+4/Jy8PAzly7Or7Gz1osabSk44ATgKt3J/B6caIy\n",
       "a38TgCDi8bIDsfrLTX5/CryAND3SA8A7SLWi59SMImILcDawBNgEvJP+cVCf2a3KR60FHiFNv3Q5\n",
       "8N6IuKs+32L3eAilKjyUirWVNFjzciIOKjuUdtbN/+/zdB2XR8SM4fbN+3sIJTPbJW72s47mRGXW\n",
       "/pyorB5atnnN3dPN2p8Tle2WPAHizLLjGIxrVGbtz4nKOpoTlVn7c6KyjuZEZdb+nKiso/kelVn7\n",
       "c6KqE41sLD5rMCcqs/b3PGB92UG0u259hqoduOnPrP25RmUdzYnKrP05UVlHc6Iya2fSOGA0acI8\n",
       "s47kRGXW3lJtyoN2WgdzojJrb272s47nRGXW3pyorOM5UZm1Nycq63hOVGbtzYnKOp4TlVl7c6Ky\n",
       "judEZdbenKis4w06hJKkzw9xXETE2Q2Ix8x2jROVdbyhxvq7hTTjY7Xxr/zMhllrcKKyjjdoooqI\n",
       "S5oYh5mNjBOVdbyhmv6+OcRxEREnNiAeM9s1TlTW8YZq+vtM06Iws10njQEmAJvLDsWskYZq+lte\n",
       "WZc0HpgREb9tRlBmVpN9gI1E7Cw7ELNGGrZ7uqQTgVuB7+btIyVdtzsfKmmKpK9J+o2klZJmS5oq\n",
       "aZmkuyQtlTSlsP8CSXdLulPS8YXyoyTdnt+7sFA+VtJVufwmSQcV3puXP+MuSe/Zne9hVjI3+1lX\n",
       "qOU5qkXAbOARgIi4FXj+bn7uhcD1EfEi4GXAncC5wLKIOAy4MW8j6XDgVOBwYC5wkaRKT8QvAvMj\n",
       "YhYwS9LcXD4f2JjLzwfOy+eaCnwMOCYvC4sJ0azNOFFZV6glUW2PiIFt4CNuapA0GTguIr4MEBE7\n",
       "IuJR4ETg0rzbpcDJef0k4IqI2B4Rq4FVwGxJ+wGTImJF3u+ywjHFc10DvD6vvwlYGhGb83daRkp+\n",
       "Zu3Iicq6Qi2J6g5J7wJGSZqVHwT+n934zEOADZK+IukXkr4kaQIwLSLW5X3WAdPy+v7AmsLxa4AD\n",
       "qpT35XLy6wOQEiHwqKS9hziXWTtyorKuUEuiej/wYuAp4ArgMeCDu/GZo4BXABdFxCuAx8nNfBWR\n",
       "JoHzQ8VmQ3Oisq4wVPd0ACLiceAjeamHNcCaiPhZ3v4asABYK2l6RKzNzXrr8/t9wIzC8Qfmc/Tl\n",
       "9YHllWNmAg9KGgVMjoiNkvqAOYVjZgDfrxakpEWFzeXFXpBmLWJf4Layg7DuJWkOz/6d2hC19Pr7\n",
       "3oAeeFMlfXekHxgRa4EHJB2Wi94A3AF8E5iXy+YB1+b164DTJI2RdAgwC1iRz/NY7jEo4HTgG4Vj\n",
       "Kud6O6lzBsBS4Pjc63Av4I3k3oxV4lxUWJaP9PuaNZBrVFaqiFhe/F3ZqM8ZtkYF7FPsTBERmyRN\n",
       "G+qAGrwf+E+lBxbvAc4AeoElkuYDq4FT8uetlLQEWAnsAM7KTYMAZwGXAONIvQhvyOUXA5dLuhvY\n",
       "CJxWiP0TQKU2t7hKRxGzdjGddD/XrKOp/3f+IDtItwBvi4j78vbBwNfz/aWOJCkiotpgvGatQ7of\n",
       "+CNSb1iz0jXqd2ctNaqPAj+W9EPSSOp/BPxlvQMxs12Q7r1OJ92PNetog9aoJI2OiO15fV/gWFJP\n",
       "vJsjoqPbxV2jspYnzQBuIsKPV1jLKKNG9dPcS+47wA0RMdRo6mbWXDPJzwqadbqhBqU9Oveymwtc\n",
       "IOlA4MekxPXDiHiqSTGa2XPNAO4vOwizZhi2M8UzO6YeeseRhiGaA2yIiBMaF1p53PRnLU/6MDCN\n",
       "iL8rOxSzijI7UwAQEdsk3Qo8HBEfzjUsMyvHDNK4l2Ydr5YHfn8oac888vgtwJcknR8Ra4Y71swa\n",
       "ZiZu+rMuUctYf5Mj4jHgbcBlEXEMaTQJMyvPDNyZwrpELYmqN4+9dwrw7VzmAWPNyuUalXWNWhLV\n",
       "x0nj4d0TESskHQrc3diwzGxQ0nhgIh7nz7pEzb3+uol7/VlLk14IfIs0g7VZy2jU785aOlO8UNKN\n",
       "ku7I2y+T9I/1DsTMauaHfa2r1NL09yXSXFTb8vbtwDsbFpGZDccP+1pXqSVRjY+ImysbeYqN7Y0L\n",
       "ycyG4RqVdZVaEtUGSS+obEh6O/BQ40Iys2G4RmVdpZaRKf4G+DfgDyQ9CNwLvKuhUZnZUGYCV5cd\n",
       "hFmzDJuoIuIe4PWSJgA9EbGl8WGZ2RBco7KuMmiiklQc7DIK5SLdqvpsIwMzsyrS/z/fo7KuMlSN\n",
       "ahLVR6DQIOVm1nhTgadwy4Z1kaHmo1rUxDjMrDYeOsm6zrD3qCR9pUpxRMSZDYjHzIbmwWit69TS\n",
       "6+/b9Df1jQPeCjzYsIjMbCiuUVnXqaXX39eK25K+CvykYRGZ2VBco7KuU8sDvwMdBuxb70DMrCau\n",
       "UVnXqeUe1Vb6m/4CWAec08igzGxQrlFZ16ml6W9iMwIxs5q4RmVdp5ZpPt4qaUphe4qkkxsblpk9\n",
       "hzQKmA70lR2KWTMNO3GipF9FxMsHlP0yIo5oaGQl8sSJ1pKkGcBNRBxQdihm1ZQ2cSJpJIqBeusd\n",
       "iJkNy0MnWVeqJVHdIumzkg6V9AJJ5wO3NDowM3sOD0ZrXamWRPV+0kSJVwFXAk8C72tkUGZWlWtU\n",
       "1pVq6fW3FThH0oSIeLwJMZlZdTOAVWUHYdZstfT6e5WklcCdefvlki5qeGRmNpC7pltXqqXp7wJg\n",
       "LvAwQET8CnhtI4Mys6r8sK91pZqGUIqIgX/F7WhALGY2NNeorCvVMnr6/ZJeDSBpDHA28JuGRmVm\n",
       "zyaNByYCG8oOxazZaqlR/TWpl98BpCfij6QOvf4k9Uq6VdI38/ZUScsk3SVp6YDRMBZIulvSnZKO\n",
       "L5QfJen2/N6FhfKxkq7K5TdJOqjw3rz8GXdJes/ufg+zJknNfsM9oW/WgYZNVBGxISL+PCKeFxH7\n",
       "RsS7ImJjHT77A8BK+ge8PRdYFhGHATfmbSQdDpwKHE66V3aRpMpDyF8E5kfELGCWpLm5fD6wMZef\n",
       "D5yXzzUV+BhwTF4WFhOiWQvz/SnrWoM2/Un6/BDHRUScPdIPlXQg8CfAJ4EP5eIT6e+kcSmwnJSs\n",
       "TgKuiIjtwGpJq4DZku4DJkXEinzMZcDJwA35XAtz+TXAF/L6m4ClEbE5x7GMlPyuHOl3MWsS35+y\n",
       "rjXUPapb6K/tDBxGaXebH84H/gHYs1A2LSLW5fV1wLS8vj9wU2G/NaRmyO15vaIvl5NfHwCIiB2S\n",
       "HpW0dz7XmirnMmt1rlFZ1xo0UUXEJcVtSZNScWzdnQ+U9BZgfUTcKmnOIJ8dktwWb9ZvJs/+g82s\n",
       "a9QyceJLSc1qe+ftDcC8iPj1CD/zVcCJkv4E2APYU9LlwDpJ0yNiraT9gPV5/z7SX5MVB5JqQn15\n",
       "fWB55ZiZwINKUyNMjoiNkvqAOYVjZgDfrxakpEWFzeURsXxXv6hZHc0Eri47CLOiXNmY0/DPqWGa\n",
       "j58CH4mIHxQC++eIeNVuf7j0WuDvI+JPJX2a1AHiPEnnAlMi4tzcmeKrpM4PBwDfA16Qa103k7rL\n",
       "rwC+DXwuIm6QdBbw0oj4a0mnASdHxGm5M8XPgVeQmjNvAV5RuWdViMvTfFhrke4E3kbEyrJDMRtM\n",
       "o3531vIc1fhKkgKIiOWSJtQxhkqm/BSwRNJ8YDVwSv68lZKWkHoI7gDOiv7sehZwCTAOuD4ibsjl\n",
       "FwOXS7ob2Aicls+1SdIngJ/l/RYPTFJmLSf1cvWAtNa1aqlRXUuqeVxOqoW8CzgqIt7a+PDK4RqV\n",
       "tZTUEWgVEXuVHYrZUMqcOPFM4HnA10ldvffNZWbWHO6abl2tlmk+NpHmpDKzcrhrunW1oR74/Sbp\n",
       "/lG1alxExIkNi8rMilyjsq42VI3qWFJ37yuAm3NZJWn5GSez5nGNyrraUIlqP+CNwDvz8m3SUEZ3\n",
       "NCMwM3vGTOC2soMwK8ugnSkiYkdEfCci3kOqXa0Cfijpb5oWnZmBa1TW5YbsTCFpD+AE0nNIBwMX\n",
       "Av/V+LDMrMD3qKyrDfocVR7W6MXA9cBVEXF7MwMrk5+jspaRhgD7PTCBNIOAWctq1O/OoRLVTuDx\n",
       "QY6LiNhzkPfanhOVtQxpBnATER7l31pe04dQiohaHgY2s8by/Snrek5GZq3N96es6zlRmbU2D0Zr\n",
       "Xc+Jyqy1HUKaTcCsazlRmbW2o4Bbyw7CrEzDTvPRjdzrz1qCNAbYDOxLxGA9cM1aRpnTfJhZOV4K\n",
       "3OMkZd3Oicqsdf0h/bNRm3UtJyqz1nU08POygzArmxOVWetyjcoMd6aoyp0prHTSeOBhYC8inio7\n",
       "HLNauDOFWXc5AljpJGXmRGXWqo7GzX5mgBOVWatyRwqzzInKrDW5I4VZ5s4UVbgzhZVK2hN4EJhC\n",
       "xI6ywzGrlTtTmHWPVwC/cpIyS5yozFqP70+ZFThRmbUe358yK3CiMms9rlGZFThRmbUSaW9gH+Cu\n",
       "skMxaxVOVGat5SjgF0TsLDsQs1bhRGXWWnx/ymwAJyqz1uL7U2YDOFGZtRbXqMwGcKIyaxXSfsAe\n",
       "wOqSIzFrKU5UZq0jNft5XDOzZ2l6opI0Q9IPJN0h6deSzs7lUyUtk3SXpKWSphSOWSDpbkl3Sjq+\n",
       "UH6UpNvzexcWysdKuiqX3yTpoMJ78/Jn3CXpPc363mY18P0psyrKqFFtB/42Il4MHAu8T9KLgHOB\n",
       "ZRFxGHBj3kbS4cCpwOHAXOAiSZVBD78IzI+IWcAsSXNz+XxgYy4/Hzgvn2sq8DHgmLwsLCZEs5L5\n",
       "/pRZFU1PVBGxNiJ+mde3Ar8BDgBOBC7Nu10KnJzXTwKuiIjtEbEaWAXMVmrPnxQRK/J+lxWOKZ7r\n",
       "GuD1ef1NwNKI2BwRm4FlpORnVq70x5drVGZVlHqPStLBwJHAzcC0iFiX31oHTMvr+wNrCoetISW2\n",
       "geV9uZz8+gBApBGoH1V64n+wc5mVbSawg4i+sgMxazWjyvpgSRNJtZ0PRMSW/tY8iIiQVOoNZUmL\n",
       "CpvLI2J5SaFYd3BtytqOpDnAnEZ/TimJStJoUpK6PCKuzcXrJE2PiLW5WW99Lu8DZhQOP5BUE+rL\n",
       "6wPLK8fMBB6UNAqYHBEbJfXx7Is6A/h+tRgjYtEIv57ZSPj+lLWd/Af88sq2pIWN+Jwyev0JuBhY\n",
       "GREXFN66DpiX1+cB1xbKT5M0RtIhwCxgRUSsBR6TNDuf83TgG1XO9XZS5wyApcDxkqZI2gt4I/Dd\n",
       "un9Js13nGpXZIJo+Fb2k1wA/Am4DKh++AFgBLCHVhFYDp+QOD0j6CHAmsIPUVPjdXH4UcAkwDrg+\n",
       "Iipd3ccCl5Puf20ETssdMZB0BvCR/Ln/FBGVThfFGD0VvTWP1ANsAmYRsaHscMxGqlG/O5ueqNqB\n",
       "E5U1lTQLWEbEwWWHYrY7GvW70yNTmJVvNm72MxuUE5VZ+U6j//6qmQ3gpr8q3PRnTSPtD/waOJCI\n",
       "35cdjtnucNOfWWd6D3C1k5TZ4Ep74Nes66XHKs4kPVphZoNwjcqsPK8hDdK8YrgdzbqZE5VZec4E\n",
       "vuz5p8yG5s4UVbgzhTWcNIk0cPIL6R+M2aytuTOFWWc5BfiBk5TZ8JyozMqRmv3MbFhOVGbNJv0B\n",
       "8HzgO2WHYtYOnKjMmu8M4DLSpJ5mNgx3pqjCnSmsYdJcbPcDf0zEnWWHY1ZP7kxh1hnmAr9zkjKr\n",
       "nROVWXO5E4XZLnLTXxVu+rOGkKYBdwIzidhSdjhm9dao350e68+sed4NXNuqSUqLJfw7wVqQfyjN\n",
       "mqF/ANq/KjWMxZoJXA3sDYzNyx75dQzwNOBmFmspbvqrwk1/VnfSm4DPk4ZMKuU/Xa4xLQVuBi4F\n",
       "ngKezK9PAdtiYewsIzbrDG76M2tX0j7AxcCZJQ9A+1fAnsCiWOhnuKx9uEZVhWtUVjepye+/gLuJ\n",
       "+IfSwlisQ0k1qeNiYfymrDiss7lGZdae/gqYQRqEthRarB7gK8C/OElZO3KiMmsU6cXAx4HXELGt\n",
       "xEg+QHpm8oISYzAbMScqs0aQ9gCuAM4l4relhbFYLwQ+ChwbC+PpsuIw2x2+R1WF71HZbpMuBPYH\n",
       "Timxl98o4L+By2Nh/GsZMVh38T0qs3YhnQCcDBxRci+/vwceB75YYgxmu801qipco7IRk6YDtwKn\n",
       "EvGj0sJYrJcAPwCOjoVxX1lxWHfx6OlmrS5N4XEp8KWSk1QvcAmwwEnKOoETlVk9SDOBHwLbSD39\n",
       "ynQG8ATpIWOztudEZba7pBOBn5Ee7D2pzJl7tVh7khLlB2Oh2/WtM7gzhdlISWOA84C3AScT8dOS\n",
       "IwJYACyNhXFL2YHUk0QP6fdVZenNy2DrvaQ/xKttV3vtGWR74KIhtjXE68B11VA+cGGIbUZYVu21\n",
       "1n2qbTeEE5XZSEjPB64CHgSOJGJTyRGhxToE+EvgpTUfkxLAOGB8YdljwDKusD6G/lHXxxa2x+Rl\n",
       "dGG9uD26yjKq8FpcBpb1kn4hbieN7v40sCMvxe2nqyw7B9kuvg61HoXtKJQP3I4hXgeuRw3lg73H\n",
       "ENuMsKzaa637VNuuO/f6q8K9/mxQUg9wKnAh8Engc6U9JyXGkKbrmApM5exD/4WNL1zPf17/k1y2\n",
       "Z14mFZY9gYnABFJSGksaQf33pK7sT5Lubz2R14vLU1WWbYX17Xl7W2G9+Dpw2VHlteoSgUd1bwN+\n",
       "jsqsTKnb+RnAXwCPACcQ8bPGfBSjgP1IYwTOBA4Apuey6YX1ScAmYBOzrt/BmK0v4GtXXJP3fwRY\n",
       "B2zJy2OF9S2kpPR74EknAWt1TlRmg0m1p9cB7wXeAHyNNNLEz3fvtIwnJaCDgYPy68zCsh+wAbgf\n",
       "eABYA6wFbgceyusPAZsi2JkHnV0BzI8nJ1+xO7GZtaKuTFSS5pIG6OwF/j0izis5JGsV0iTgGOA1\n",
       "wOnAVuDRMAZNAAAIVklEQVT/AfOJeGz4w+kh1Xhm0F8jKq4fBEwmJaH7Cst38+v9QF8EuzKI7emk\n",
       "prMrd+EYs7bRdfeoJPUCvyX9hdxH6lb8zoj+6Q98j6q+JM2JiOVlx/Ecaa6ow4BXFpZDSSNL3ESa\n",
       "sn0FESHRS7ofNC0v+xeWAwrr04HNpJpQpUZUXF8NrBtpc9vAa6nFmkj6eX5bLIybR3LObtayP5tt\n",
       "yveo6ucYYFVErAaQdCVwEuB5ehpnDrC86Z+auo/vTWpKOyQvBz9Nz6E76Xl+L5q5jTGbH2T/u37J\n",
       "Efd/i7csXcIpTzzOxL1IyeeTwDTE80idEzaT7vusI/X2exC4B/hxXu8D1kbwZAO/1RyefS3PAX7g\n",
       "JDVicyjjZ9N2STcmqgNIf9lWrAFmlxRLV8rNY73AqOdzz+gX8Ztx+/DwuIls3WMM28aN5/cTxvHE\n",
       "hDFsmzCa7eNHsWPCKHZMGM32CWPYNnEM2/Ycy1OTRrN94hi2TRjDtvFjeWrCeH4/aSJbJ07g8XET\n",
       "2brHWHpHPcaeOzaw7457OWTnPRzas4oXjPkdz48HmLHlXg55cDN7bSL1cOsl9YDbSqqhbALW52Ud\n",
       "8HAELTV9uxZrJnAWcETZsZg1UjcmqpraOm84cK+nGh3I8PTcjaj2xF3/V1I8e/f+rytV9qvs86wn\n",
       "AAPpmfeCyvozTxcG6okobKf1nlzeA/RG0BOgCPVG2u6N4G9H9bJu3NiFvTuDURE8NioYvTMYHTvp\n",
       "Ddgusb1HbO/pYbvEU7098WRvD0/1Kp7s7Ymn0vrOJ3t74vFRPfH4aD29aVTPzsdH9+zcOkZPbx2d\n",
       "lofHa9vD47V1/fg9Nq6fMHbbpvGxLXqf3kHPph30rttB74920LttO3p6Z5XHFCvdtw8e9F9j8WDv\n",
       "1GyoJpHB3nt2+R8yS4tV+cPqEOALsTAeeM5RZh2kG+9RHQssioi5eXsBsLPYoUJSd10UM7M6acQ9\n",
       "qm5MVKNITTuvJ91XWMGAzhRmZtY6uq7pLyJ2SPobUnfgXuBiJykzs9bVdTUqMzNrL57mo0DSXEl3\n",
       "Srpb0jllx9PKJK2WdJukWyWtyGVTJS2TdJekpZKmFPZfkK/rnZKOL5QfJen2/N6FZXyXZpP0ZUnr\n",
       "JN1eKKvbtZM0VtJVufwmSQc179s13yDXc5GkNfnn81ZJby685+s5BEkzJP1A0h2Sfi3p7Fxe3s9o\n",
       "RHhJtcpeYBWp19do4JfAi8qOq1UX4F5g6oCyTwMfzuvnAJ/K64fn6zk6X99V9NfmVwDH5PXrgbll\n",
       "f7cmXLvjgCOB2xtx7Uhd1i/K66cCV5b9nUu4nguBD1XZ19dz+Os5HTgir1ceKH9RmT+jrlH1e+ZB\n",
       "4IioDEdzUskxtbqBvXtOJE3FTn49Oa+fBFwREdsjPWi9CpgtaT9gUkSsyPtdVjimY0XEj0mDxhbV\n",
       "89oVz3UNqeNQxxrkekL1Lv++nsOIiLUR8cu8vpU0GMIBlPgz6kTVr9qDwAeUFEs7COB7kn4u6S9y\n",
       "2bSIWJfX15GGGoI0tNCawrGVazuwvI/uveb1vHbP/CxHmm34UUlTGxR3K3u/pF9JurjQTOXruQsk\n",
       "HUyqrd5MiT+jTlT93Ktk17w6Io4E3gy8T9JxxTcj1el9TUfA164uvkh6IPoI0kjznyk3nPYjaSKp\n",
       "tvOBiNhSfK/ZP6NOVP36SCNcV8zg2X8NWEFEPJRfNwD/RWo6Xac0bxO52r8+7z7w2h5IurZ9eb1Y\n",
       "3tfYyFtWPa7dmsIxM/O5RgGTowVmIG6miFgfGfDvpJ9P8PWsiaTRpCR1eURcm4tL+xl1our3c2CW\n",
       "pIOVBjM9Fbiu5JhakqTxStNhIGkCcDxprqTrgHl5t3lA5Qf8OuA0SWMkHQLMAlZExFrgMUmzJYk0\n",
       "XcW1dKd6XLtvVDnX24Ebm/EFWkn+RVrxVtLPJ/h6Dit//4uBlRFxQeGt8n5Gy+5h0koLqRnrt6Sb\n",
       "gQvKjqdVF1KTyi/z8uvKtSKNMP494C5gKTClcMxH8nW9E3hTofwo0i+RVcDnyv5uTbp+V5BGRdlG\n",
       "aqc/o57XjjS47hLgbtJ0JQeX/Z2bfD3PJN24vw34Vf6FOs3Xs+br+RpgZ/7/fWte5pb5M+oHfs3M\n",
       "rKW56c/MzFqaE5WZmbU0JyozM2tpTlRmZtbSnKjMzKylOVGZmVlLc6IyM7OW5kRl1kCS9i7MifRQ\n",
       "YY6kLZK+0KDP/KCk04d4/wRJixvx2WaN4Ad+zZpE0kJgS0R8toGfMQq4BTgyInYOsd8vSAMLP9Go\n",
       "WMzqxTUqs+YSgKQ5kr6Z1xdJulTSj5RmTn6rpE8rzaD8nZx8KrOlLs9Tq9xQGSB0gNcBv6gkKUln\n",
       "55lafyXpisJ+y4G3NPSbmtWJE5VZazgE+GPShHL/AdwYES8DngBOyKNZfx74s4g4GvgK8Mkq53k1\n",
       "aYDlinNIs7W+HHhvofznpJlxzVreqLIDMDMC+E5EPC3p10BvRHw3v3c7aXrvw4AXkyarBOglDcQ6\n",
       "0HRgZWH7NuCrkq7l2SPTbyBNbGfW8pyozFrDNoCI2Clpe6F8J+n/qYA7IuJVw5znCWCPwvYJwB8B\n",
       "fwp8VNJLcrPgHnlfs5bnpj+z8qmGfX4L7CvpWEgT20k6vMp+vwFekPcRMDMilgPnApOBiXm/w+if\n",
       "o8mspTlRmTVXFF6rrcNzp/iOiNhOmmDuPEmVeYJeWeX83yHVoCDVxC6XdBvwC+DCiHgsvzcH+PZu\n",
       "fA+zpnH3dLMOI+nrwIcjYtUg708D/jMi3tDcyMxGxonKrMNIOow0o+2PB3n/aGBbRNzW3MjMRsaJ\n",
       "yszMWprvUZmZWUtzojIzs5bmRGVmZi3NicrMzFqaE5WZmbW0/w+Lx+VvKZRWHwAAAABJRU5ErkJg\n",
       "gg==\n"
      ],
      "text/plain": [
       "<matplotlib.figure.Figure at 0x7f43a2f83290>"
=======
      "image/png": "iVBORw0KGgoAAAANSUhEUgAAAY4AAAEPCAYAAABV6CMBAAAABHNCSVQICAgIfAhkiAAAAAlwSFlz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\nERERERERERFJrv8DtbXK6oyLX6sAAAAASUVORK5CYII=\n",
      "text/plain": [
       "<matplotlib.figure.Figure at 0x7fcd61dc0d10>"
>>>>>>> 210359e7a0c65b00773c4881ee2bf4b14793f91a
      ]
     },
     "metadata": {},
     "output_type": "display_data"
    }
   ],
   "source": [
<<<<<<< HEAD
    "t = pl.linspace(0, 20000)\n",
    "yout = odesolve(m.model, t)\n",
    "plt.plot(t, yout['mBid'], label=\"tBid\")\n",
    "plt.plot(t, yout['aSmac'], label='Smac')\n",
    "plt.plot(t, yout['cPARP'], label='cParp')\n",
=======
    "from qsb_model import model\n",
    "\n",
    "# Build time points for the integrator, using the same time scale as the \n",
    "# experimental data\n",
    "ntimes = len(time)\n",
    "#Factor by which to increase time resolution\n",
    "tmul = 10\n",
    "# Do the sampling such that the original experimental timepoints can be\n",
    "# extracted with a slice expression instead of requiring interpolation.\n",
    "tspan = np.linspace(time[0], time[-1],\n",
    "                    (ntimes-1) * tmul + 1)\n",
    "# Initialize solver object\n",
    "solver = pysb.integrate.Solver(model, tspan, rtol=1e-5, atol=1e-5)\n",
    "\n",
    "pl.ion()\n",
    "pl.figure()\n",
    "plt.plot(t, yout['mBid']/model.parameters['Bid_0'].value, label=\"tBid\")\n",
    "plt.plot(t, yout['aSmac']/model.parameters['Smac_0'].value, label='rSmac')\n",
    "plt.plot(t, yout['cPARP']/model.parameters['PARP_0'].value, label='cPARP')\n",
>>>>>>> 210359e7a0c65b00773c4881ee2bf4b14793f91a
    "plt.legend()\n",
    "plt.xlabel(\"Time (s)\")\n",
    "plt.ylabel(\"Molecules/cell\")\n"
   ]
  },
  {
   "cell_type": "code",
   "execution_count": 214,
   "metadata": {
    "collapsed": false
   },
   "outputs": [],
   "source": [
    "from scipy.spatial.distance import pdist"
   ]
  },
  {
   "cell_type": "markdown",
   "metadata": {},
<<<<<<< HEAD
   "source": [
    "##Sensitivity analysis\n",
    "In this section, the importance of each parameter will be assessed.  \n",
    "In this analysis, the output (on idividual molecules) of the original model will be compared with the output of a model where one parameter has been changed"
   ]
  },
  {
   "cell_type": "markdown",
   "metadata": {},
   "source": [
    "###Distance and statistics\n",
    "Since the parameter space is the same in both the experiment (modified model) and the control (model fitted from experiments), an euclidean distance was chosen as a measure of distance.  \n",
    "It has to be noted, that the euclidean distance is susceptible to complementary fluctuations, as seen below"
   ]
  },
  {
   "cell_type": "code",
   "execution_count": 226,
   "metadata": {
    "collapsed": false
   },
   "outputs": [
    {
     "data": {
      "text/plain": [
       "array([ 2.])"
      ]
     },
     "execution_count": 226,
     "metadata": {},
     "output_type": "execute_result"
    }
   ],
   "source": [
    "pdist([[3,2,3],[1,2,3]])"
   ]
  },
  {
   "cell_type": "code",
   "execution_count": 228,
   "metadata": {
    "collapsed": false
   },
   "outputs": [
    {
     "data": {
      "text/plain": [
       "array([ 2.])"
      ]
     },
     "execution_count": 228,
     "metadata": {},
     "output_type": "execute_result"
    }
   ],
   "source": [
    "pdist([[3,2,3],[3,4,3]])"
   ]
  },
  {
   "cell_type": "markdown",
   "metadata": {},
   "source": [
    "As a significance measure, the Mann-Whitney U test was chosen because it can work with zero-values in the null distribution, and behaves better with non-normal distributions"
   ]
  },
  {
   "cell_type": "code",
   "execution_count": 230,
   "metadata": {
    "collapsed": false
   },
   "outputs": [
    {
     "data": {
      "text/html": [
       "<iframe src='http://en.wikipedia.org/wiki/Mann-Whitney_U_test' width='800' height='600' style='border:0'></iframe>"
      ],
      "text/plain": [
       "<IPython.core.display.HTML object>"
      ]
     },
     "execution_count": 230,
     "metadata": {},
     "output_type": "execute_result"
    }
   ],
   "source": [
    "HTML(\"<iframe src='http://en.wikipedia.org/wiki/Mann-Whitney_U_test' width='800' height='600' style='border:0'></iframe>\")"
   ]
  },
  {
   "cell_type": "code",
   "execution_count": 64,
   "metadata": {
    "collapsed": false
   },
   "outputs": [],
   "source": [
    "# Extract initial conditions (We are not going to change these\n",
    "initial_conditions = [x[1] for x in m.model.initial_conditions]\n",
    "# Filter out initial concentrations from the parameters that we are going to use\n",
    "params_to_change = [param for param in m.model.parameters if not param in initial_conditions]"
   ]
  },
  {
   "cell_type": "code",
   "execution_count": 258,
   "metadata": {
    "collapsed": false
   },
   "outputs": [
    {
     "data": {
      "text/plain": [
       "'synthesize_C8_k'"
      ]
     },
     "execution_count": 258,
     "metadata": {},
     "output_type": "execute_result"
    }
   ],
   "source": [
    "meh.args[0]"
   ]
  },
  {
   "cell_type": "code",
   "execution_count": 283,
   "metadata": {
    "collapsed": false
   },
   "outputs": [],
   "source": [
    "import qsb_model as m\n",
    "def messed_up_param(model,param,out_var,order_magnitude,samples):\n",
    "    '''\n",
    "    Measure the extent at which modifying a parameter of a model\n",
    "    will change the production of a molecule specified by it\n",
    "    input: \n",
    "    model: pysb model\n",
    "    param: parameter to be evaluated\n",
    "    out_var: output molecule to me measured\n",
    "    order_magnitude: The parameter will be modified X orders of \n",
    "    magnitude below and above its experimentally fitted value\n",
    "    samples: samples to be generated\n",
    "    '''\n",
    "    # set integration interval\n",
    "    t = np.linspace(0,200000)\n",
    "    # Store original parameter value\n",
    "    old_param_value = param.value\n",
    "    # The parameter will be modified _samples_ times\n",
    "    # _order_magnitude_ orders of magnitude\n",
    "    value_list = np.linspace(old_param_value * 10**-order_magnitude, old_param_value * 10**order_magnitude,samples)\n",
    "    # Solve the ODE system for the original model\n",
    "    yout_old = odesolve(model.model, t)\n",
    "    # Extract output variable to be analyzed\n",
    "    analyte = yout_old[out_var]\n",
    "    print(\"Parameter {} will be scanned for deviations of {} production ({} samples)\".format(param.args[0],\n",
    "                                                                                             out_var,samples))\n",
    "    sample_output = {}\n",
    "    for value in value_list:\n",
    "        # Reset model\n",
    "        model.model.reset_equations()\n",
    "        # Set the parameter to the new value\n",
    "        param.value = value\n",
    "        # Solve the ODE\n",
    "        yout = odesolve(model.model,t)\n",
    "        # Extract the values of the analyte that is being compared\n",
    "        new_analyte = yout[out_var]\n",
    "        # Calculate a U-test to see if the two distributions\n",
    "        # are significantly different\n",
    "        u_test = stats.mannwhitneyu(new_analyte,analyte)\n",
    "        # Measure the euclidean distance between the sample and the original model\n",
    "        euclidean = pdist([new_analyte,analyte])\n",
    "        # Reset model\n",
    "        param.value = old_param_value\n",
    "        model.model.reset_equations()\n",
    "        sample_output[value] = [euclidean[0],u_test[0]]\n",
    "        sample_output_table = pd.DataFrame.from_dict(sample_output,orient='index')\n",
    "        sample_output_table.columns=['euclidean','u_test_Pval']\n",
    "        sample_output_table.index.name = param.args[0]\n",
    "#         print \"euclidean distance: {}, P-value (U-test): {}\".format(np.round(euclidean[0],2),u_test[1])\n",
    "    return sample_output_table"
   ]
  },
  {
   "cell_type": "code",
   "execution_count": 292,
   "metadata": {
    "collapsed": false,
    "scrolled": true
   },
   "outputs": [
    {
     "name": "stdout",
     "output_type": "stream",
     "text": [
      "Parameter synthesize_C8_k will be scanned for deviations of mBid production (10 samples)\n",
      "Parameter bind_C8_Bidn_to_C8Bidn_kf will be scanned for deviations of mBid production (10 samples)\n",
      "Parameter bind_C8_Bidn_to_C8Bidn_kr will be scanned for deviations of mBid production (10 samples)\n",
      "Parameter catalyze_C8Bidn_to_C8_Bidt_kc will be scanned for deviations of mBid production (10 samples)\n",
      "Parameter bind_Bidt_Baxd_to_BidtBaxd_kf will be scanned for deviations of mBid production (10 samples)\n",
      "Parameter bind_Bidt_Baxd_to_BidtBaxd_kr will be scanned for deviations of mBid production (10 samples)\n",
      "Parameter catalyze_BidtBaxd_to_Bidt_Baxa_kc will be scanned for deviations of mBid production (10 samples)\n",
      "Parameter bind_Baxa_Mc_to_BaxaMc_kf will be scanned for deviations of mBid production (10 samples)\n",
      "Parameter bind_Baxa_Mc_to_BaxaMc_kr will be scanned for deviations of mBid production (10 samples)\n",
      "Parameter catalyze_BaxaMc_to_Baxa_Mp_kc will be scanned for deviations of mBid production (10 samples)\n",
      "Parameter bind_Mp_Smacm_to_MpSmacm_kf will be scanned for deviations of mBid production (10 samples)\n",
      "Parameter bind_Mp_Smacm_to_MpSmacm_kr will be scanned for deviations of mBid production (10 samples)\n",
      "Parameter catalyze_MpSmacm_to_Mp_Smacr_kc will be scanned for deviations of mBid production (10 samples)\n",
      "Parameter bind_Smacr_PARPn_to_SmacrPARPn_kf will be scanned for deviations of mBid production (10 samples)\n",
      "Parameter bind_Smacr_PARPn_to_SmacrPARPn_kr will be scanned for deviations of mBid production (10 samples)\n",
      "Parameter catalyze_SmacrPARPn_to_Smacr_PARPc_kc will be scanned for deviations of mBid production (10 samples)\n",
      "Parameter bind_Bidt_Bcl2_kf will be scanned for deviations of mBid production (10 samples)\n",
      "Parameter bind_Bidt_Bcl2_kr will be scanned for deviations of mBid production (10 samples)\n",
      "Parameter bind_Baxa_Bcl2_kf will be scanned for deviations of mBid production (10 samples)\n",
      "Parameter bind_Baxa_Bcl2_kr will be scanned for deviations of mBid production (10 samples)\n",
      "Parameter synthesize_C8_k will be scanned for deviations of aSmac production (10 samples)\n",
      "Parameter bind_C8_Bidn_to_C8Bidn_kf will be scanned for deviations of aSmac production (10 samples)\n",
      "Parameter bind_C8_Bidn_to_C8Bidn_kr will be scanned for deviations of aSmac production (10 samples)\n",
      "Parameter catalyze_C8Bidn_to_C8_Bidt_kc will be scanned for deviations of aSmac production (10 samples)\n",
      "Parameter bind_Bidt_Baxd_to_BidtBaxd_kf will be scanned for deviations of aSmac production (10 samples)\n",
      "Parameter bind_Bidt_Baxd_to_BidtBaxd_kr will be scanned for deviations of aSmac production (10 samples)\n",
      "Parameter catalyze_BidtBaxd_to_Bidt_Baxa_kc will be scanned for deviations of aSmac production (10 samples)\n",
      "Parameter bind_Baxa_Mc_to_BaxaMc_kf will be scanned for deviations of aSmac production (10 samples)\n",
      "Parameter bind_Baxa_Mc_to_BaxaMc_kr will be scanned for deviations of aSmac production (10 samples)\n",
      "Parameter catalyze_BaxaMc_to_Baxa_Mp_kc will be scanned for deviations of aSmac production (10 samples)\n",
      "Parameter bind_Mp_Smacm_to_MpSmacm_kf will be scanned for deviations of aSmac production (10 samples)\n",
      "Parameter bind_Mp_Smacm_to_MpSmacm_kr will be scanned for deviations of aSmac production (10 samples)\n",
      "Parameter catalyze_MpSmacm_to_Mp_Smacr_kc will be scanned for deviations of aSmac production (10 samples)\n",
      "Parameter bind_Smacr_PARPn_to_SmacrPARPn_kf will be scanned for deviations of aSmac production (10 samples)\n",
      "Parameter bind_Smacr_PARPn_to_SmacrPARPn_kr will be scanned for deviations of aSmac production (10 samples)\n",
      "Parameter catalyze_SmacrPARPn_to_Smacr_PARPc_kc will be scanned for deviations of aSmac production (10 samples)\n",
      "Parameter bind_Bidt_Bcl2_kf will be scanned for deviations of aSmac production (10 samples)\n",
      "Parameter bind_Bidt_Bcl2_kr will be scanned for deviations of aSmac production (10 samples)\n",
      "Parameter bind_Baxa_Bcl2_kf will be scanned for deviations of aSmac production (10 samples)\n",
      "Parameter bind_Baxa_Bcl2_kr will be scanned for deviations of aSmac production (10 samples)\n",
      "Parameter synthesize_C8_k will be scanned for deviations of cPARP production (10 samples)\n",
      "Parameter bind_C8_Bidn_to_C8Bidn_kf will be scanned for deviations of cPARP production (10 samples)\n",
      "Parameter bind_C8_Bidn_to_C8Bidn_kr will be scanned for deviations of cPARP production (10 samples)\n",
      "Parameter catalyze_C8Bidn_to_C8_Bidt_kc will be scanned for deviations of cPARP production (10 samples)\n",
      "Parameter bind_Bidt_Baxd_to_BidtBaxd_kf will be scanned for deviations of cPARP production (10 samples)\n",
      "Parameter bind_Bidt_Baxd_to_BidtBaxd_kr will be scanned for deviations of cPARP production (10 samples)\n",
      "Parameter catalyze_BidtBaxd_to_Bidt_Baxa_kc will be scanned for deviations of cPARP production (10 samples)\n",
      "Parameter bind_Baxa_Mc_to_BaxaMc_kf will be scanned for deviations of cPARP production (10 samples)\n",
      "Parameter bind_Baxa_Mc_to_BaxaMc_kr will be scanned for deviations of cPARP production (10 samples)\n",
      "Parameter catalyze_BaxaMc_to_Baxa_Mp_kc will be scanned for deviations of cPARP production (10 samples)\n",
      "Parameter bind_Mp_Smacm_to_MpSmacm_kf will be scanned for deviations of cPARP production (10 samples)\n",
      "Parameter bind_Mp_Smacm_to_MpSmacm_kr will be scanned for deviations of cPARP production (10 samples)\n",
      "Parameter catalyze_MpSmacm_to_Mp_Smacr_kc will be scanned for deviations of cPARP production (10 samples)\n",
      "Parameter bind_Smacr_PARPn_to_SmacrPARPn_kf will be scanned for deviations of cPARP production (10 samples)\n",
      "Parameter bind_Smacr_PARPn_to_SmacrPARPn_kr will be scanned for deviations of cPARP production (10 samples)\n",
      "Parameter catalyze_SmacrPARPn_to_Smacr_PARPc_kc will be scanned for deviations of cPARP production (10 samples)\n",
      "Parameter bind_Bidt_Bcl2_kf will be scanned for deviations of cPARP production (10 samples)\n",
      "Parameter bind_Bidt_Bcl2_kr will be scanned for deviations of cPARP production (10 samples)\n",
      "Parameter bind_Baxa_Bcl2_kf will be scanned for deviations of cPARP production (10 samples)\n",
      "Parameter bind_Baxa_Bcl2_kr will be scanned for deviations of cPARP production (10 samples)\n"
     ]
    }
   ],
   "source": [
    "perturbations = {}\n",
    "for output in ['mBid','aSmac','cPARP']:\n",
    "    perturbations[output] = [messed_up_param(m,params,output,2,10) for params in params_to_change]\n",
    "    print('\\n')"
   ]
  },
  {
   "cell_type": "code",
   "execution_count": 294,
   "metadata": {
    "collapsed": false
   },
   "outputs": [
    {
     "data": {
      "text/html": [
       "<div style=\"max-height:1000px;max-width:1500px;overflow:auto;\">\n",
       "<table border=\"1\" class=\"dataframe\">\n",
       "  <thead>\n",
       "    <tr style=\"text-align: right;\">\n",
       "      <th></th>\n",
       "      <th>euclidean</th>\n",
       "      <th>u_test_Pval</th>\n",
       "    </tr>\n",
       "    <tr>\n",
       "      <th>synthesize_C8_k</th>\n",
       "      <th></th>\n",
       "      <th></th>\n",
       "    </tr>\n",
       "  </thead>\n",
       "  <tbody>\n",
       "    <tr>\n",
       "      <th>5.556000e-05</th>\n",
       "      <td>  86602.923354</td>\n",
       "      <td> 185.5</td>\n",
       "    </tr>\n",
       "    <tr>\n",
       "      <th>6.667000e-05</th>\n",
       "      <td>  98928.937525</td>\n",
       "      <td> 169.5</td>\n",
       "    </tr>\n",
       "    <tr>\n",
       "      <th>7.778000e-05</th>\n",
       "      <td> 109847.041583</td>\n",
       "      <td> 160.5</td>\n",
       "    </tr>\n",
       "    <tr>\n",
       "      <th>1.112000e-05</th>\n",
       "      <td>   7465.298069</td>\n",
       "      <td> 390.5</td>\n",
       "    </tr>\n",
       "    <tr>\n",
       "      <th>1.000000e-08</th>\n",
       "      <td>     83.161579</td>\n",
       "      <td> 141.5</td>\n",
       "    </tr>\n",
       "    <tr>\n",
       "      <th>8.889000e-05</th>\n",
       "      <td> 119476.720817</td>\n",
       "      <td> 151.5</td>\n",
       "    </tr>\n",
       "    <tr>\n",
       "      <th>1.000000e-04</th>\n",
       "      <td> 128077.178871</td>\n",
       "      <td> 142.5</td>\n",
       "    </tr>\n",
       "    <tr>\n",
       "      <th>3.334000e-05</th>\n",
       "      <td>  56077.646556</td>\n",
       "      <td> 233.5</td>\n",
       "    </tr>\n",
       "    <tr>\n",
       "      <th>4.445000e-05</th>\n",
       "      <td>  72404.025172</td>\n",
       "      <td> 205.5</td>\n",
       "    </tr>\n",
       "    <tr>\n",
       "      <th>2.223000e-05</th>\n",
       "      <td>  36668.316818</td>\n",
       "      <td> 281.5</td>\n",
       "    </tr>\n",
       "  </tbody>\n",
       "</table>\n",
       "</div>"
      ],
      "text/plain": [
       "                     euclidean  u_test_Pval\n",
       "synthesize_C8_k                            \n",
       "5.556000e-05      86602.923354        185.5\n",
       "6.667000e-05      98928.937525        169.5\n",
       "7.778000e-05     109847.041583        160.5\n",
       "1.112000e-05       7465.298069        390.5\n",
       "1.000000e-08         83.161579        141.5\n",
       "8.889000e-05     119476.720817        151.5\n",
       "1.000000e-04     128077.178871        142.5\n",
       "3.334000e-05      56077.646556        233.5\n",
       "4.445000e-05      72404.025172        205.5\n",
       "2.223000e-05      36668.316818        281.5"
      ]
     },
     "execution_count": 294,
     "metadata": {},
     "output_type": "execute_result"
    }
   ],
   "source": [
    "perturbations['mBid'][0]"
   ]
  },
  {
   "cell_type": "markdown",
   "metadata": {},
   "source": [
    "##This might get discarded"
   ]
  },
  {
   "cell_type": "markdown",
   "metadata": {},
=======
>>>>>>> 210359e7a0c65b00773c4881ee2bf4b14793f91a
   "source": [
    "##Simulate perturbations in the rates"
   ]
  },
  {
   "cell_type": "markdown",
   "metadata": {},
   "source": [
    "The idea in this section is to systematically modify the the rates of the different reactions, and see which perturbations causes more damage.  \n",
    "Here, I think by \"damage\" I mean: distance from the empirically determined model. It will assume that the empirically determined model is optimal, though. We can think of another standard.  \n",
    "  \n",
    "  \n",
    "I propose two alternatives\n",
    "* Randomly disturb the rates\n",
    "* Systematically increase the rates from 0 to X (and all combinations of rates)"
   ]
  },
  {
   "cell_type": "code",
   "execution_count": 12,
   "metadata": {
    "collapsed": true
   },
   "outputs": [],
   "source": [
    "def mess_it_up(number):\n",
    "    '''\n",
    "    Take a number (rate), and add/substract a\n",
    "    random number from it\n",
    "    Given that it could take negative values,\n",
    "    maybe scaling it could be a better idea,\n",
    "    because truncating the substraction if <0\n",
    "    is kind of dirty and not \"as random\" as\n",
    "    it should be. Another option is to use a \n",
    "    positively bounded distribution\n",
    "    '''\n",
    "    sign = np.random.choice([-1,1])\n",
    "    # It would be better to use a more elegant\n",
    "    # distribution\n",
    "    to_be_added = np.random.rand()\n",
    "    print(sign*to_be_added)"
   ]
  },
  {
   "cell_type": "code",
   "execution_count": 14,
   "metadata": {
    "collapsed": false
   },
   "outputs": [
    {
     "name": "stdout",
     "output_type": "stream",
     "text": [
      "-0.164392712836\n"
     ]
    }
   ],
   "source": [
    "mess_it_up(2)"
   ]
  },
  {
   "cell_type": "code",
   "execution_count": 15,
   "metadata": {
    "collapsed": true
   },
   "outputs": [],
   "source": [
    "def pick_rate(things):\n",
    "    '''\n",
    "    given a set of \"things\" (dict, list)\n",
    "    return a subset of them that will be messed up\n",
    "    '''\n",
    "    chosen =[]\n",
    "    for thing in things:\n",
    "        if np.random.choice([0,1]):\n",
    "            chosen.append(thing)\n",
    "    return chosen"
   ]
  },
  {
   "cell_type": "code",
   "execution_count": 19,
   "metadata": {
    "collapsed": false
   },
   "outputs": [
    {
     "data": {
      "text/plain": [
       "[1, 2, 3]"
      ]
     },
     "execution_count": 19,
     "metadata": {},
     "output_type": "execute_result"
    }
   ],
   "source": [
    "pick_rate([1,2,3,4,5])"
   ]
  },
  {
   "cell_type": "markdown",
   "metadata": {},
   "source": [
    "##Models comparison\n",
    "If we can transform the output to be compared in the model (one specific product, trajectories, etc) to a probability distribution (by calculating proportions, relative frequences, etc), I think that the Jensen-Shannon distance is a good idea. It is based in information theory, it is quite robust, it doesn't need those nasty p-values, and it handles different parameters space quite well"
   ]
  },
  {
   "cell_type": "code",
   "execution_count": 25,
   "metadata": {
    "collapsed": false
   },
   "outputs": [
    {
     "data": {
      "text/html": [
       "<iframe src=\"http://en.wikipedia.org/wiki/Jensen%E2%80%93Shannon_divergence\" style=\"border:none\" width=\"800\" height=\"400\"></iframe>"
      ],
      "text/plain": [
       "<IPython.core.display.HTML object>"
      ]
     },
     "execution_count": 25,
     "metadata": {},
     "output_type": "execute_result"
    }
   ],
   "source": [
    "HTML('<iframe src=\"http://en.wikipedia.org/wiki/Jensen%E2%80%93Shannon_divergence\" style=\"border:none\" width=\"800\" height=\"400\"></iframe>')"
   ]
  },
  {
   "cell_type": "markdown",
   "metadata": {},
   "source": [
    "###JSD implementation"
   ]
  },
  {
   "cell_type": "code",
   "execution_count": null,
   "metadata": {
    "collapsed": true
   },
   "outputs": [],
   "source": [
    "def DLK(u,v,epsilon,bg):\n",
    "    '''\n",
    "    Calculate Kullback-Leibler divergence\n",
    "    u,v: numpy arrays\n",
    "    e: epsilon -> pseudocounts to add\n",
    "    bg: background weight. Under a uniform distribution, bg is 1/(4^k)\n",
    "    '''\n",
    "    ps_count = epsilon * bg\n",
    "    # Get proportions and add pseudocount\n",
    "    u_prop = (u + ps_count) / sum(u)\n",
    "    v_prop = (v + ps_count) / sum(v)\n",
    "#     dlk = sum(u_prop * np.log(u_prop/v_prop))\n",
    "    dlk = sum(u_prop * np.log2(u_prop/v_prop))\n",
    "    return dlk\n",
    "\n",
    "def JSD(u,v,epsilon,bg):\n",
    "    '''\n",
    "    Calculate the Jensen-Shannon distance\n",
    "    u,v: numpy arrays\n",
    "    e and bg are arguments for DLK\n",
    "    e: epsilon -> pseudocounts to add\n",
    "    bg: background weight. Under a uniform distribution, bg is 1/(4^k)\n",
    "    '''\n",
    "    m = (u + v) / 2\n",
    "    # Calculate Jensen-Shannon divergence\n",
    "    js_div = (DLK(u,m,epsilon,bg) + DLK(v,m,epsilon,bg)) / 2\n",
    "    #Calculate Jensen-Shannon distance\n",
    "    jsdist = np.sqrt(js_div)\n",
    "    return jsdist"
   ]
  }
 ],
 "metadata": {
  "kernelspec": {
   "display_name": "Python 2",
   "language": "python",
   "name": "python2"
  },
  "language_info": {
   "codemirror_mode": {
    "name": "ipython",
    "version": 2
   },
   "file_extension": ".py",
   "mimetype": "text/x-python",
   "name": "python",
   "nbconvert_exporter": "python",
   "pygments_lexer": "ipython2",
   "version": "2.7.6"
  }
 },
 "nbformat": 4,
 "nbformat_minor": 0
}
