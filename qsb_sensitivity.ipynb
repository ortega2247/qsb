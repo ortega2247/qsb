{
 "cells": [
  {
   "cell_type": "markdown",
   "metadata": {},
   "source": [
    "#QSB Project"
   ]
  },
  {
   "cell_type": "code",
   "execution_count": 204,
   "metadata": {
    "collapsed": false,
    "scrolled": true
   },
   "outputs": [],
   "source": [
    "%matplotlib inline\n",
    "\n",
    "# import csv\n",
    "import matplotlib.pyplot as plt \n",
    "import numpy as np\n",
    "from scipy.optimize import curve_fit\n",
    "from pysb import *\n",
    "from pysb.macros import *\n",
    "import pylab as pl\n",
    "from pysb.integrate import odesolve, Solver\n",
    "import pandas as pd\n",
    "from IPython.display import HTML\n",
    "from scipy.stats import stats\n",
    "from scipy.spatial.distance import pdist\n",
    "from copy import deepcopy"
   ]
  },
  {
   "cell_type": "markdown",
   "metadata": {},
   "source": [
    "##Sensitivity analysis\n",
    "In this section, the importance of each parameter will be assessed.  \n",
    "In this analysis, the output (on idividual molecules) of the original model will be compared with the output of a model where one parameter has been changed"
   ]
  },
  {
   "cell_type": "markdown",
   "metadata": {},
   "source": [
    "###Distance and statistics\n",
    "Since the parameter space is the same in both the experiment (modified model) and the control (model fitted from experiments), an euclidean distance was chosen as a measure of distance.  \n",
    "It has to be noted, that the euclidean distance is susceptible to complementary fluctuations, as seen below"
   ]
  },
  {
   "cell_type": "code",
   "execution_count": 226,
   "metadata": {
    "collapsed": false
   },
   "outputs": [
    {
     "data": {
      "text/plain": [
       "array([ 2.])"
      ]
     },
     "execution_count": 226,
     "metadata": {},
     "output_type": "execute_result"
    }
   ],
   "source": [
    "pdist([[3,2,3],[1,2,3]])"
   ]
  },
  {
   "cell_type": "code",
   "execution_count": 228,
   "metadata": {
    "collapsed": false
   },
   "outputs": [
    {
     "data": {
      "text/plain": [
       "array([ 2.])"
      ]
     },
     "execution_count": 228,
     "metadata": {},
     "output_type": "execute_result"
    }
   ],
   "source": [
    "pdist([[3,2,3],[3,4,3]])"
   ]
  },
  {
   "cell_type": "markdown",
   "metadata": {},
   "source": [
    "As a significance measure, the Mann-Whitney U test was chosen because it can work with zero-values in the null distribution, and behaves better with non-normal distributions"
   ]
  },
  {
   "cell_type": "code",
   "execution_count": 230,
   "metadata": {
    "collapsed": false
   },
   "outputs": [
    {
     "data": {
      "text/html": [
       "<iframe src='http://en.wikipedia.org/wiki/Mann-Whitney_U_test' width='800' height='600' style='border:0'></iframe>"
      ],
      "text/plain": [
       "<IPython.core.display.HTML object>"
      ]
     },
     "execution_count": 230,
     "metadata": {},
     "output_type": "execute_result"
    }
   ],
   "source": [
    "HTML(\"<iframe src='http://en.wikipedia.org/wiki/Mann-Whitney_U_test' width='800' height='600' style='border:0'></iframe>\")"
   ]
  },
  {
   "cell_type": "markdown",
   "metadata": {},
   "source": [
    "Import model"
   ]
  },
  {
   "cell_type": "code",
   "execution_count": 356,
   "metadata": {
    "collapsed": true
   },
   "outputs": [],
   "source": [
    "import qsb_model as m"
   ]
  },
  {
   "cell_type": "code",
   "execution_count": 814,
   "metadata": {
    "collapsed": false
   },
   "outputs": [
    {
     "name": "stderr",
     "output_type": "stream",
     "text": [
      "qsb_model.py:60: ModelExistsWarning: Redefining model! (You can probably ignore this if you are running code interactively)\n",
      "  Model()\n"
     ]
    }
   ],
   "source": [
    "reload(m)\n",
    "# Extract initial conditions (We are not going to change these\n",
    "initial_conditions = [x[1] for x in m.model.initial_conditions]\n",
    "# Filter out initial concentrations from the parameters that we are going to use\n",
    "params_to_change = [param for param in m.model.parameters if not param in initial_conditions]\n",
    "def messed_up_param(model,param,out_var,samples):\n",
    "    '''\n",
    "    Measure the extent at which modifying a parameter of a model\n",
    "    will change the production of a molecule specified by it\n",
    "    input: \n",
    "    model: pysb model\n",
    "    param: parameter to be evaluated\n",
    "    out_var: output molecule to me measured\n",
    "    order_magnitude: The parameter will be modified X orders of \n",
    "    magnitude below and above its experimentally fitted value\n",
    "    samples: samples to be generated\n",
    "    '''\n",
    "    # set integration interval\n",
    "    t = np.linspace(0,200000)\n",
    "    # Store original parameter value\n",
    "    print(param.value)\n",
    "    old_param_value = np.real(param.value)\n",
    "    # The parameter will be modified _samples_ times\n",
    "    # _order_magnitude_ orders of magnitude\n",
    "    \n",
    "    # Solve the ODE system for the original model\n",
    "    yout_old = odesolve(model.model, t)\n",
    "    # Extract output variable to be analyzed\n",
    "    analyte = np.array([x for x in yout_old[out_var]])\n",
    "    print(\"Parameter {} will be scanned for deviations of {} production)\".format(param.args[0],out_var))\n",
    "    sample_output = {}\n",
    "#     fig = plt.figure(figsize=(20,20))\n",
    "#     axes = [fig.add_subplot(len(value_list)/3,len(value_list)/2,x) for x in range(1,len(value_list)+1)]\n",
    "    news = []\n",
    "#     print(value_list)\n",
    "    value_list = np.arange(old_param_value/samples,old_param_value*samples,old_param_value)\n",
    "#     value_list = np.arange(0,1,1e-5)\n",
    "    for value in value_list:\n",
    "        # Set the parameter to the new value\n",
    "        param.value = value\n",
    "        # Solve the ODE\n",
    "        Solver(model.model,t)\n",
    "        yout = odesolve(model.model,t)\n",
    "        # Extract the values of the analyte that is being compared\n",
    "        new_analyte = yout[out_var]\n",
    "        news.append(new_analyte)\n",
    "#         print(param.value)\n",
    "        # Calculate a U-test to see if the two distributions\n",
    "        # are significantly different\n",
    "        u_test = stats.mannwhitneyu(new_analyte,analyte)\n",
    "        # Measure the euclidean distance between the sample and the original model\n",
    "        euclidean = pdist([new_analyte,analyte])\n",
    "        # Store result in dictionary\n",
    "        sample_output[value] = [euclidean[0],u_test[0]]\n",
    "#         ax.plot(t,new_analyte)\n",
    "        # Organize result as a table\n",
    "        sample_output_table = pd.DataFrame.from_dict(sample_output,orient='index')\n",
    "        sample_output_table.columns=['euclidean','u_test_Pval']\n",
    "        sample_output_table.index.name = param.args[0]\n",
    "        sample_output_table.reset_index(inplace=True)\n",
    "        sample_output_table.sort(param.args[0],inplace=True)\n",
    "        sample_output_table.set_index(param.args[0],inplace=True)\n",
    "#     fig.tight_layout()\n",
    "    return sample_output_table#,news,value_list,analyte"
   ]
  },
  {
   "cell_type": "code",
   "execution_count": 808,
   "metadata": {
    "collapsed": false,
    "scrolled": true
   },
   "outputs": [
    {
     "name": "stdout",
     "output_type": "stream",
     "text": [
      "3.25408661984\n",
      "Parameter synthesize_C8_k will be scanned for deviations of mBid production)\n",
      "0.0775191786904\n",
      "Parameter bind_C8_Bidn_to_C8Bidn_kf will be scanned for deviations of mBid production)\n",
      "0.000268843848235\n",
      "Parameter bind_C8_Bidn_to_C8Bidn_kr will be scanned for deviations of mBid production)\n",
      "7.96230249653\n",
      "Parameter catalyze_C8Bidn_to_C8_Bidt_kc will be scanned for deviations of mBid production)\n",
      "4.14973335225e-09\n",
      "Parameter bind_Bidt_Baxd_to_BidtBaxd_kf will be scanned for deviations of mBid production)\n",
      "0.000501109753716\n",
      "Parameter bind_Bidt_Baxd_to_BidtBaxd_kr will be scanned for deviations of mBid production)\n",
      "0.391973572435\n",
      "Parameter catalyze_BidtBaxd_to_Bidt_Baxa_kc will be scanned for deviations of mBid production)\n",
      "2.22997667426e-08\n",
      "Parameter bind_Baxa_Mc_to_BaxaMc_kf will be scanned for deviations of mBid production)\n",
      "0.0018670344174\n",
      "Parameter bind_Baxa_Mc_to_BaxaMc_kr will be scanned for deviations of mBid production)\n",
      "0.410857250496\n",
      "Parameter catalyze_BaxaMc_to_Baxa_Mp_kc will be scanned for deviations of mBid production)\n",
      "1.2128334849e-07\n",
      "Parameter bind_Mp_Smacm_to_MpSmacm_kf will be scanned for deviations of mBid production)\n",
      "0.0112420818482\n",
      "Parameter bind_Mp_Smacm_to_MpSmacm_kr will be scanned for deviations of mBid production)\n",
      "17.0037670667\n",
      "Parameter catalyze_MpSmacm_to_Mp_Smacr_kc will be scanned for deviations of mBid production)\n",
      "4.03794639163e-05\n",
      "Parameter bind_Smacr_PARPn_to_SmacrPARPn_kf will be scanned for deviations of mBid production)\n",
      "0.00243273715792\n",
      "Parameter bind_Smacr_PARPn_to_SmacrPARPn_kr will be scanned for deviations of mBid production)\n",
      "0.0120837364732\n",
      "Parameter catalyze_SmacrPARPn_to_Smacr_PARPc_kc will be scanned for deviations of mBid production)\n",
      "2.3147601898e-06\n",
      "Parameter bind_Bidt_Bcl2_kf will be scanned for deviations of mBid production)\n",
      "0.00173126079944\n",
      "Parameter bind_Bidt_Bcl2_kr will be scanned for deviations of mBid production)\n",
      "9.99904129211e-05\n",
      "Parameter bind_Baxa_Bcl2_kf will be scanned for deviations of mBid production)\n",
      "2.07407112922e-05\n",
      "Parameter bind_Baxa_Bcl2_kr will be scanned for deviations of mBid production)\n",
      "\n",
      "\n",
      "322.187116231\n",
      "Parameter synthesize_C8_k will be scanned for deviations of aSmac production)\n",
      "7.67517388213\n",
      "Parameter bind_C8_Bidn_to_C8Bidn_kf will be scanned for deviations of aSmac production)\n",
      "0.0266182294138\n",
      "Parameter bind_C8_Bidn_to_C8Bidn_kr will be scanned for deviations of aSmac production)\n",
      "788.347570181\n",
      "Parameter catalyze_C8Bidn_to_C8_Bidt_kc will be scanned for deviations of aSmac production)\n",
      "4.10865099206e-07\n",
      "Parameter bind_Bidt_Baxd_to_BidtBaxd_kf will be scanned for deviations of aSmac production)\n",
      "0.0496148767154\n",
      "Parameter bind_Bidt_Baxd_to_BidtBaxd_kr will be scanned for deviations of aSmac production)\n",
      "38.8093034068\n",
      "Parameter catalyze_BidtBaxd_to_Bidt_Baxa_kc will be scanned for deviations of aSmac production)\n",
      "2.20789990518e-06\n",
      "Parameter bind_Baxa_Mc_to_BaxaMc_kf will be scanned for deviations of aSmac production)\n",
      "0.184855077667\n",
      "Parameter bind_Baxa_Mc_to_BaxaMc_kr will be scanned for deviations of aSmac production)\n",
      "40.6789763717\n",
      "Parameter catalyze_BaxaMc_to_Baxa_Mp_kc will be scanned for deviations of aSmac production)\n",
      "1.2008264334e-05\n",
      "Parameter bind_Mp_Smacm_to_MpSmacm_kf will be scanned for deviations of aSmac production)\n",
      "1.11307852379\n",
      "Parameter bind_Mp_Smacm_to_MpSmacm_kr will be scanned for deviations of aSmac production)\n",
      "1683.54297727\n",
      "Parameter catalyze_MpSmacm_to_Mp_Smacr_kc will be scanned for deviations of aSmac production)\n",
      "0.00399797072236\n",
      "Parameter bind_Smacr_PARPn_to_SmacrPARPn_kf will be scanned for deviations of aSmac production)\n",
      "0.240865306006\n",
      "Parameter bind_Smacr_PARPn_to_SmacrPARPn_kr will be scanned for deviations of aSmac production)\n",
      "1.19641074821\n",
      "Parameter catalyze_SmacrPARPn_to_Smacr_PARPc_kc will be scanned for deviations of aSmac production)\n",
      "0.000229184406392\n",
      "Parameter bind_Bidt_Bcl2_kf will be scanned for deviations of aSmac production)\n",
      "0.171412131752\n",
      "Parameter bind_Bidt_Bcl2_kr will be scanned for deviations of aSmac production)\n",
      "0.00990005078332\n",
      "Parameter bind_Baxa_Bcl2_kf will be scanned for deviations of aSmac production)\n",
      "0.00205353782504\n",
      "Parameter bind_Baxa_Bcl2_kr will be scanned for deviations of aSmac production)\n",
      "\n",
      "\n",
      "31899.746378\n",
      "Parameter synthesize_C8_k will be scanned for deviations of cPARP production)\n",
      "759.91896607\n",
      "Parameter bind_C8_Bidn_to_C8Bidn_kf will be scanned for deviations of cPARP production)\n",
      "2.63547089426\n",
      "Parameter bind_C8_Bidn_to_C8Bidn_kr will be scanned for deviations of cPARP production)\n",
      "78054.2929237\n",
      "Parameter catalyze_C8Bidn_to_C8_Bidt_kc will be scanned for deviations of cPARP production)\n",
      "4.06797534724e-05\n",
      "Parameter bind_Bidt_Baxd_to_BidtBaxd_kf will be scanned for deviations of cPARP production)\n",
      "4.91236894359\n",
      "Parameter bind_Bidt_Baxd_to_BidtBaxd_kr will be scanned for deviations of cPARP production)\n",
      "3842.50913031\n",
      "Parameter catalyze_BidtBaxd_to_Bidt_Baxa_kc will be scanned for deviations of cPARP production)\n",
      "0.000218604169612\n",
      "Parameter bind_Baxa_Mc_to_BaxaMc_kf will be scanned for deviations of cPARP production)\n",
      "18.3025012398\n",
      "Parameter bind_Baxa_Mc_to_BaxaMc_kr will be scanned for deviations of cPARP production)\n",
      "4027.62545056\n",
      "Parameter catalyze_BaxaMc_to_Baxa_Mp_kc will be scanned for deviations of cPARP production)\n",
      "0.00118893825171\n",
      "Parameter bind_Mp_Smacm_to_MpSmacm_kf will be scanned for deviations of cPARP production)\n",
      "110.20590464\n",
      "Parameter bind_Mp_Smacm_to_MpSmacm_kr will be scanned for deviations of cPARP production)\n",
      "166687.59018\n",
      "Parameter catalyze_MpSmacm_to_Mp_Smacr_kc will be scanned for deviations of cPARP production)\n",
      "0.395839081221\n",
      "Parameter bind_Smacr_PARPn_to_SmacrPARPn_kf will be scanned for deviations of cPARP production)\n",
      "23.8480739476\n",
      "Parameter bind_Smacr_PARPn_to_SmacrPARPn_kr will be scanned for deviations of cPARP production)\n",
      "118.45662818\n",
      "Parameter catalyze_SmacrPARPn_to_Smacr_PARPc_kc will be scanned for deviations of cPARP production)\n",
      "0.0226915480769\n",
      "Parameter bind_Bidt_Bcl2_kf will be scanned for deviations of cPARP production)\n",
      "16.9715151648\n",
      "Parameter bind_Bidt_Bcl2_kr will be scanned for deviations of cPARP production)\n",
      "0.980204028056\n",
      "Parameter bind_Baxa_Bcl2_kf will be scanned for deviations of cPARP production)\n",
      "0.203320780057\n",
      "Parameter bind_Baxa_Bcl2_kr will be scanned for deviations of cPARP production)\n",
      "\n",
      "\n"
     ]
    }
   ],
   "source": [
    "perturbations = {}\n",
    "for output in ['mBid','aSmac','cPARP']:\n",
    "    perturbations[output] = {param.args[0]: messed_up_param(m,param,output,100) for param in params_to_change}\n",
    "    print('\\n')"
   ]
  },
  {
   "cell_type": "code",
   "execution_count": 817,
   "metadata": {
    "collapsed": false,
    "scrolled": true
   },
   "outputs": [
    {
     "data": {
      "text/plain": [
       "[<matplotlib.lines.Line2D at 0x7fd5eb270c90>]"
      ]
     },
     "execution_count": 817,
     "metadata": {},
     "output_type": "execute_result"
    },
    {
     "data": {
      "image/png": "[encoded data removed]",
      "text/plain": [
       "<matplotlib.figure.Figure at 0x7fd5ea07c7d0>"
      ]
     },
     "metadata": {},
     "output_type": "display_data"
    }
   ],
   "source": [
    "plt.plot(perturbations['mBid']['bind_C8_Bidn_to_C8Bidn_kf'][0]['euclidean'])"
   ]
  },
  {
   "cell_type": "code",
   "execution_count": 192,
   "metadata": {
    "collapsed": false,
    "scrolled": true
   },
   "outputs": [
    {
     "data": {
      "text/plain": [
       "<matplotlib.collections.LineCollection at 0x7fd5ec139650>"
      ]
     },
     "execution_count": 192,
     "metadata": {},
     "output_type": "execute_result"
    },
    {
     "data": {
      "image/png": "[encoded data removed]",
      "text/plain": [
       "<matplotlib.figure.Figure at 0x7fd5ec0e4810>"
      ]
     },
     "metadata": {},
     "output_type": "display_data"
    }
   ],
   "source": [
    "output = 'mBid'\n",
    "param = 'bind_C8_Bidn_to_C8Bidn_kf'\n",
    "plt.plot(perturbations[output][param].index,\n",
    "         perturbations[output][param]['euclidean'])\n",
    "plt.xlabel(\"Parameter value\")\n",
    "plt.ylabel(\"Euclidean distance\")\n",
    "plt.vlines(getattr(m, param).value,0,perturbations[output][param]['euclidean'].max(),color='r')"
   ]
  },
  {
   "cell_type": "code",
   "execution_count": 193,
   "metadata": {
    "collapsed": true
   },
   "outputs": [],
   "source": [
    "t = np.linspace(0,200000)"
   ]
  },
  {
   "cell_type": "code",
   "execution_count": 198,
   "metadata": {
    "collapsed": false
   },
   "outputs": [
    {
     "data": {
      "text/plain": [
       "[<matplotlib.lines.Line2D at 0x7fd5ec475310>]"
      ]
     },
     "execution_count": 198,
     "metadata": {},
     "output_type": "execute_result"
    },
    {
     "data": {
      "image/png": "[encoded data removed]",
      "text/plain": [
       "<matplotlib.figure.Figure at 0x7fd5ec348610>"
      ]
     },
     "metadata": {},
     "output_type": "display_data"
    }
   ],
   "source": [
    "import qsb_model as m\n",
    "m.model.reset_equations()\n",
    "yout = odesolve(m.model,t)\n",
    "plt.plot(t,yout['mBid'])"
   ]
  },
  {
   "cell_type": "code",
   "execution_count": 199,
   "metadata": {
    "collapsed": false
   },
   "outputs": [
    {
     "data": {
      "text/plain": [
       "8.689797e-09"
      ]
     },
     "execution_count": 199,
     "metadata": {},
     "output_type": "execute_result"
    }
   ],
   "source": [
    "m.bind_C8_Bidn_to_C8Bidn_kf.value"
   ]
  },
  {
   "cell_type": "code",
   "execution_count": 202,
   "metadata": {
    "collapsed": false,
    "scrolled": true
   },
   "outputs": [
    {
     "data": {
      "text/plain": [
       "[<matplotlib.lines.Line2D at 0x7fd5ec95bc90>]"
      ]
     },
     "execution_count": 202,
     "metadata": {},
     "output_type": "execute_result"
    },
    {
     "data": {
      "image/png": "[encoded data removed]",
      "text/plain": [
       "<matplotlib.figure.Figure at 0x7fd5ec67a210>"
      ]
     },
     "metadata": {},
     "output_type": "display_data"
    }
   ],
   "source": [
    "import qsb_model as m\n",
    "m.bind_C8_Bidn_to_C8Bidn_kf.value = 0.0000005\n",
    "m.model.reset_equations()\n",
    "yout1 = odesolve(m.model,t)\n",
    "plt.plot(t,yout1['mBid'])"
   ]
  },
  {
   "cell_type": "code",
   "execution_count": 130,
   "metadata": {
    "collapsed": false
   },
   "outputs": [
    {
     "data": {
      "text/plain": [
       "1000"
      ]
     },
     "execution_count": 130,
     "metadata": {},
     "output_type": "execute_result"
    }
   ],
   "source": [
    "m.bind_Bidt_Baxd_to_BidtBaxd_kf"
   ]
  },
  {
   "cell_type": "code",
   "execution_count": 119,
   "metadata": {
    "collapsed": false
   },
   "outputs": [
    {
     "data": {
      "text/plain": [
       "[Parameter('synthesize_C8_k', 3.2866241994187331e-06),\n",
       " Parameter('bind_C8_Bidn_to_C8Bidn_kf', 8.689797365675458e-07),\n",
       " Parameter('bind_C8_Bidn_to_C8Bidn_kr', 0.00026884384823502833),\n",
       " Parameter('catalyze_C8Bidn_to_C8_Bidt_kc', 7.962302496530549),\n",
       " Parameter('bind_Bidt_Baxd_to_BidtBaxd_kf', 4.149733352245889e-09),\n",
       " Parameter('bind_Bidt_Baxd_to_BidtBaxd_kr', 0.0005011097537160254),\n",
       " Parameter('catalyze_BidtBaxd_to_Bidt_Baxa_kc', 0.3919735724350635),\n",
       " Parameter('bind_Baxa_Mc_to_BaxaMc_kf', 2.2299766742556005e-08),\n",
       " Parameter('bind_Baxa_Mc_to_BaxaMc_kr', 0.0018670344174003893),\n",
       " Parameter('catalyze_BaxaMc_to_Baxa_Mp_kc', 0.0),\n",
       " Parameter('bind_Mp_Smacm_to_MpSmacm_kf', 1.2128334849034545e-07),\n",
       " Parameter('bind_Mp_Smacm_to_MpSmacm_kr', 0.011242081848190973),\n",
       " Parameter('catalyze_MpSmacm_to_Mp_Smacr_kc', 17.003767066674314),\n",
       " Parameter('bind_Smacr_PARPn_to_SmacrPARPn_kf', 4.037946391634512e-05),\n",
       " Parameter('bind_Smacr_PARPn_to_SmacrPARPn_kr', 0.002432737157920334),\n",
       " Parameter('catalyze_SmacrPARPn_to_Smacr_PARPc_kc', 0.01208373647317641),\n",
       " Parameter('bind_Bidt_Bcl2_kf', 2.314760189802689e-06),\n",
       " Parameter('bind_Bidt_Bcl2_kr', 0.0017312607994352624),\n",
       " Parameter('bind_Baxa_Bcl2_kf', 9.999041292108682e-05),\n",
       " Parameter('bind_Baxa_Bcl2_kr', 2.074071129217215e-05)]"
      ]
     },
     "execution_count": 119,
     "metadata": {},
     "output_type": "execute_result"
    }
   ],
   "source": [
    "params_to_change"
   ]
  },
  {
   "cell_type": "markdown",
   "metadata": {},
   "source": [
    "##This might get discarded"
   ]
  },
  {
   "cell_type": "code",
   "execution_count": 25,
   "metadata": {
    "collapsed": false
   },
   "outputs": [
    {
     "data": {
      "text/html": [
       "<iframe src=\"http://en.wikipedia.org/wiki/Jensen%E2%80%93Shannon_divergence\" style=\"border:none\" width=\"800\" height=\"400\"></iframe>"
      ],
      "text/plain": [
       "<IPython.core.display.HTML object>"
      ]
     },
     "execution_count": 25,
     "metadata": {},
     "output_type": "execute_result"
    }
   ],
   "source": [
    "HTML('<iframe src=\"http://en.wikipedia.org/wiki/Jensen%E2%80%93Shannon_divergence\" style=\"border:none\" width=\"800\" height=\"400\"></iframe>')"
   ]
  },
  {
   "cell_type": "markdown",
   "metadata": {},
   "source": [
    "###JSD implementation"
   ]
  },
  {
   "cell_type": "code",
   "execution_count": null,
   "metadata": {
    "collapsed": true
   },
   "outputs": [],
   "source": [
    "def DLK(u,v,epsilon,bg):\n",
    "    '''\n",
    "    Calculate Kullback-Leibler divergence\n",
    "    u,v: numpy arrays\n",
    "    e: epsilon -> pseudocounts to add\n",
    "    bg: background weight. Under a uniform distribution, bg is 1/(4^k)\n",
    "    '''\n",
    "    ps_count = epsilon * bg\n",
    "    # Get proportions and add pseudocount\n",
    "    u_prop = (u + ps_count) / sum(u)\n",
    "    v_prop = (v + ps_count) / sum(v)\n",
    "#     dlk = sum(u_prop * np.log(u_prop/v_prop))\n",
    "    dlk = sum(u_prop * np.log2(u_prop/v_prop))\n",
    "    return dlk\n",
    "\n",
    "def JSD(u,v,epsilon,bg):\n",
    "    '''\n",
    "    Calculate the Jensen-Shannon distance\n",
    "    u,v: numpy arrays\n",
    "    e and bg are arguments for DLK\n",
    "    e: epsilon -> pseudocounts to add\n",
    "    bg: background weight. Under a uniform distribution, bg is 1/(4^k)\n",
    "    '''\n",
    "    m = (u + v) / 2\n",
    "    # Calculate Jensen-Shannon divergence\n",
    "    js_div = (DLK(u,m,epsilon,bg) + DLK(v,m,epsilon,bg)) / 2\n",
    "    #Calculate Jensen-Shannon distance\n",
    "    jsdist = np.sqrt(js_div)\n",
    "    return jsdist"
   ]
  }
 ],
 "metadata": {
  "kernelspec": {
   "display_name": "Python 2",
   "language": "python",
   "name": "python2"
  },
  "language_info": {
   "codemirror_mode": {
    "name": "ipython",
    "version": 2
   },
   "file_extension": ".py",
   "mimetype": "text/x-python",
   "name": "python",
   "nbconvert_exporter": "python",
   "pygments_lexer": "ipython2",
   "version": "2.7.9"
  }
 },
 "nbformat": 4,
 "nbformat_minor": 0
}
